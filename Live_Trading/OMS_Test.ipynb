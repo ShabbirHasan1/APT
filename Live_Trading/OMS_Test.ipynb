{
 "cells": [
  {
   "cell_type": "code",
   "execution_count": 1,
   "metadata": {},
   "outputs": [],
   "source": [
    "import pandas as pd\n",
    "import os.path"
   ]
  },
  {
   "cell_type": "code",
   "execution_count": 2,
   "metadata": {},
   "outputs": [],
   "source": [
    "kite_orders = pd.read_csv('D:\\DevAPT\\APT\\Live_Trading\\Sample_Order_Response.csv')\n",
    "current_order = pd.DataFrame(columns=['order_id', 'order_type', 'transaction_type', 'parent_order_id', 'price', 'status'])"
   ]
  },
  {
   "cell_type": "code",
   "execution_count": 3,
   "metadata": {},
   "outputs": [],
   "source": [
    "current_order = current_order.append(kite_orders.loc[2, ['order_id', 'order_type', 'transaction_type', 'parent_order_id', 'price', 'status']])\n",
    "current_order = current_order.reset_index(drop=True)"
   ]
  },
  {
   "cell_type": "code",
   "execution_count": 29,
   "metadata": {},
   "outputs": [
    {
     "data": {
      "text/html": [
       "<div>\n",
       "<style scoped>\n",
       "    .dataframe tbody tr th:only-of-type {\n",
       "        vertical-align: middle;\n",
       "    }\n",
       "\n",
       "    .dataframe tbody tr th {\n",
       "        vertical-align: top;\n",
       "    }\n",
       "\n",
       "    .dataframe thead th {\n",
       "        text-align: right;\n",
       "    }\n",
       "</style>\n",
       "<table border=\"1\" class=\"dataframe\">\n",
       "  <thead>\n",
       "    <tr style=\"text-align: right;\">\n",
       "      <th></th>\n",
       "      <th>Unnamed: 0</th>\n",
       "      <th>average_price</th>\n",
       "      <th>cancelled_quantity</th>\n",
       "      <th>disclosed_quantity</th>\n",
       "      <th>exchange</th>\n",
       "      <th>exchange_order_id</th>\n",
       "      <th>exchange_timestamp</th>\n",
       "      <th>exchange_update_timestamp</th>\n",
       "      <th>filled_quantity</th>\n",
       "      <th>guid</th>\n",
       "      <th>...</th>\n",
       "      <th>quantity</th>\n",
       "      <th>status</th>\n",
       "      <th>status_message</th>\n",
       "      <th>status_message_raw</th>\n",
       "      <th>tag</th>\n",
       "      <th>tradingsymbol</th>\n",
       "      <th>transaction_type</th>\n",
       "      <th>trigger_price</th>\n",
       "      <th>validity</th>\n",
       "      <th>variety</th>\n",
       "    </tr>\n",
       "  </thead>\n",
       "  <tbody>\n",
       "    <tr>\n",
       "      <th>0</th>\n",
       "      <td>0</td>\n",
       "      <td>364.85</td>\n",
       "      <td>0</td>\n",
       "      <td>0</td>\n",
       "      <td>NSE</td>\n",
       "      <td>1000000003684051</td>\n",
       "      <td>2019-09-03 12:45:53</td>\n",
       "      <td>2019-09-03 12:45:53</td>\n",
       "      <td>1</td>\n",
       "      <td>12499XtgLHMdkdKPb0</td>\n",
       "      <td>...</td>\n",
       "      <td>1</td>\n",
       "      <td>COMPLETE</td>\n",
       "      <td>NaN</td>\n",
       "      <td>NaN</td>\n",
       "      <td>NaN</td>\n",
       "      <td>ADANIPORTS</td>\n",
       "      <td>BUY</td>\n",
       "      <td>0</td>\n",
       "      <td>DAY</td>\n",
       "      <td>regular</td>\n",
       "    </tr>\n",
       "    <tr>\n",
       "      <th>1</th>\n",
       "      <td>1</td>\n",
       "      <td>365.55</td>\n",
       "      <td>0</td>\n",
       "      <td>0</td>\n",
       "      <td>NSE</td>\n",
       "      <td>1000000003828581</td>\n",
       "      <td>2019-09-03 12:50:48</td>\n",
       "      <td>2019-09-03 12:50:48</td>\n",
       "      <td>1</td>\n",
       "      <td>01X6vQVkrdDNqDg</td>\n",
       "      <td>...</td>\n",
       "      <td>1</td>\n",
       "      <td>COMPLETE</td>\n",
       "      <td>NaN</td>\n",
       "      <td>NaN</td>\n",
       "      <td>NaN</td>\n",
       "      <td>ADANIPORTS</td>\n",
       "      <td>SELL</td>\n",
       "      <td>0</td>\n",
       "      <td>DAY</td>\n",
       "      <td>regular</td>\n",
       "    </tr>\n",
       "    <tr>\n",
       "      <th>2</th>\n",
       "      <td>2</td>\n",
       "      <td>366.00</td>\n",
       "      <td>0</td>\n",
       "      <td>0</td>\n",
       "      <td>NSE</td>\n",
       "      <td>1000000003834690</td>\n",
       "      <td>2019-09-03 12:53:54</td>\n",
       "      <td>2019-09-03 12:54:05</td>\n",
       "      <td>1</td>\n",
       "      <td>12499XEzsb7Humbp2Q</td>\n",
       "      <td>...</td>\n",
       "      <td>1</td>\n",
       "      <td>COMPLETE</td>\n",
       "      <td>NaN</td>\n",
       "      <td>NaN</td>\n",
       "      <td>NaN</td>\n",
       "      <td>ADANIPORTS</td>\n",
       "      <td>BUY</td>\n",
       "      <td>0</td>\n",
       "      <td>DAY</td>\n",
       "      <td>bo</td>\n",
       "    </tr>\n",
       "    <tr>\n",
       "      <th>3</th>\n",
       "      <td>3</td>\n",
       "      <td>0.00</td>\n",
       "      <td>0</td>\n",
       "      <td>1</td>\n",
       "      <td>NSE</td>\n",
       "      <td>1000000003862606</td>\n",
       "      <td>2019-09-03 12:54:05</td>\n",
       "      <td>2019-09-03 12:54:05</td>\n",
       "      <td>0</td>\n",
       "      <td>NaN</td>\n",
       "      <td>...</td>\n",
       "      <td>1</td>\n",
       "      <td>OPEN</td>\n",
       "      <td>NaN</td>\n",
       "      <td>NaN</td>\n",
       "      <td>NaN</td>\n",
       "      <td>ADANIPORTS</td>\n",
       "      <td>SELL</td>\n",
       "      <td>0</td>\n",
       "      <td>DAY</td>\n",
       "      <td>bo</td>\n",
       "    </tr>\n",
       "    <tr>\n",
       "      <th>4</th>\n",
       "      <td>4</td>\n",
       "      <td>0.00</td>\n",
       "      <td>0</td>\n",
       "      <td>1</td>\n",
       "      <td>NSE</td>\n",
       "      <td>1000000003862607</td>\n",
       "      <td>2019-09-03 12:54:05</td>\n",
       "      <td>2019-09-03 12:54:05</td>\n",
       "      <td>0</td>\n",
       "      <td>NaN</td>\n",
       "      <td>...</td>\n",
       "      <td>1</td>\n",
       "      <td>TRIGGER PENDING</td>\n",
       "      <td>NaN</td>\n",
       "      <td>NaN</td>\n",
       "      <td>NaN</td>\n",
       "      <td>ADANIPORTS</td>\n",
       "      <td>SELL</td>\n",
       "      <td>363</td>\n",
       "      <td>DAY</td>\n",
       "      <td>bo</td>\n",
       "    </tr>\n",
       "  </tbody>\n",
       "</table>\n",
       "<p>5 rows × 30 columns</p>\n",
       "</div>"
      ],
      "text/plain": [
       "   Unnamed: 0  average_price  cancelled_quantity  disclosed_quantity exchange  \\\n",
       "0           0         364.85                   0                   0      NSE   \n",
       "1           1         365.55                   0                   0      NSE   \n",
       "2           2         366.00                   0                   0      NSE   \n",
       "3           3           0.00                   0                   1      NSE   \n",
       "4           4           0.00                   0                   1      NSE   \n",
       "\n",
       "   exchange_order_id   exchange_timestamp exchange_update_timestamp  \\\n",
       "0   1000000003684051  2019-09-03 12:45:53       2019-09-03 12:45:53   \n",
       "1   1000000003828581  2019-09-03 12:50:48       2019-09-03 12:50:48   \n",
       "2   1000000003834690  2019-09-03 12:53:54       2019-09-03 12:54:05   \n",
       "3   1000000003862606  2019-09-03 12:54:05       2019-09-03 12:54:05   \n",
       "4   1000000003862607  2019-09-03 12:54:05       2019-09-03 12:54:05   \n",
       "\n",
       "   filled_quantity                guid  ...  quantity           status  \\\n",
       "0                1  12499XtgLHMdkdKPb0  ...         1         COMPLETE   \n",
       "1                1     01X6vQVkrdDNqDg  ...         1         COMPLETE   \n",
       "2                1  12499XEzsb7Humbp2Q  ...         1         COMPLETE   \n",
       "3                0                 NaN  ...         1             OPEN   \n",
       "4                0                 NaN  ...         1  TRIGGER PENDING   \n",
       "\n",
       "   status_message status_message_raw tag  tradingsymbol  transaction_type  \\\n",
       "0             NaN                NaN NaN     ADANIPORTS               BUY   \n",
       "1             NaN                NaN NaN     ADANIPORTS              SELL   \n",
       "2             NaN                NaN NaN     ADANIPORTS               BUY   \n",
       "3             NaN                NaN NaN     ADANIPORTS              SELL   \n",
       "4             NaN                NaN NaN     ADANIPORTS              SELL   \n",
       "\n",
       "  trigger_price  validity  variety  \n",
       "0             0       DAY  regular  \n",
       "1             0       DAY  regular  \n",
       "2             0       DAY       bo  \n",
       "3             0       DAY       bo  \n",
       "4           363       DAY       bo  \n",
       "\n",
       "[5 rows x 30 columns]"
      ]
     },
     "execution_count": 29,
     "metadata": {},
     "output_type": "execute_result"
    }
   ],
   "source": [
    "kite_orders"
   ]
  },
  {
   "cell_type": "code",
   "execution_count": 30,
   "metadata": {},
   "outputs": [
    {
     "ename": "IndexError",
     "evalue": "index 0 is out of bounds for axis 0 with size 0",
     "output_type": "error",
     "traceback": [
      "\u001b[1;31m---------------------------------------------------------------------------\u001b[0m",
      "\u001b[1;31mIndexError\u001b[0m                                Traceback (most recent call last)",
      "\u001b[1;32m<ipython-input-30-5f32988cabbd>\u001b[0m in \u001b[0;36m<module>\u001b[1;34m\u001b[0m\n\u001b[0;32m      1\u001b[0m \u001b[0mday_high\u001b[0m \u001b[1;33m=\u001b[0m \u001b[1;36m1\u001b[0m\u001b[1;33m\u001b[0m\u001b[1;33m\u001b[0m\u001b[0m\n\u001b[0;32m      2\u001b[0m \u001b[0mday_low\u001b[0m \u001b[1;33m=\u001b[0m \u001b[1;36m2\u001b[0m\u001b[1;33m\u001b[0m\u001b[1;33m\u001b[0m\u001b[0m\n\u001b[1;32m----> 3\u001b[1;33m \u001b[0mstoploss\u001b[0m\u001b[1;33m=\u001b[0m\u001b[0mday_high\u001b[0m \u001b[1;32mif\u001b[0m \u001b[0mkite_orders\u001b[0m\u001b[1;33m[\u001b[0m\u001b[1;34m'transaction_type'\u001b[0m\u001b[1;33m]\u001b[0m\u001b[1;33m[\u001b[0m\u001b[0mkite_orders\u001b[0m\u001b[1;33m[\u001b[0m\u001b[1;34m'order_id'\u001b[0m\u001b[1;33m]\u001b[0m \u001b[1;33m==\u001b[0m \u001b[0mcurrent_order\u001b[0m\u001b[1;33m.\u001b[0m\u001b[0mat\u001b[0m\u001b[1;33m[\u001b[0m\u001b[0mcurrent_order\u001b[0m\u001b[1;33m.\u001b[0m\u001b[0mloc\u001b[0m\u001b[1;33m[\u001b[0m\u001b[0mcurrent_order\u001b[0m\u001b[1;33m[\u001b[0m\u001b[1;34m'order_type'\u001b[0m\u001b[1;33m]\u001b[0m \u001b[1;33m==\u001b[0m \u001b[1;34m'SL'\u001b[0m\u001b[1;33m]\u001b[0m\u001b[1;33m.\u001b[0m\u001b[0mindex\u001b[0m\u001b[1;33m.\u001b[0m\u001b[0mvalues\u001b[0m\u001b[1;33m.\u001b[0m\u001b[0mastype\u001b[0m\u001b[1;33m(\u001b[0m\u001b[0mint\u001b[0m\u001b[1;33m)\u001b[0m\u001b[1;33m[\u001b[0m\u001b[1;36m0\u001b[0m\u001b[1;33m]\u001b[0m\u001b[1;33m,\u001b[0m \u001b[1;34m'order_id'\u001b[0m\u001b[1;33m]\u001b[0m\u001b[1;33m]\u001b[0m\u001b[1;33m.\u001b[0m\u001b[0mvalues\u001b[0m\u001b[1;33m[\u001b[0m\u001b[1;36m0\u001b[0m\u001b[1;33m]\u001b[0m \u001b[1;33m==\u001b[0m \u001b[1;34m'BUY'\u001b[0m \u001b[1;32melse\u001b[0m \u001b[0mday_low\u001b[0m\u001b[1;33m\u001b[0m\u001b[1;33m\u001b[0m\u001b[0m\n\u001b[0m",
      "\u001b[1;31mIndexError\u001b[0m: index 0 is out of bounds for axis 0 with size 0"
     ]
    }
   ],
   "source": [
    "day_high = 1\n",
    "day_low = 2\n",
    "stoploss=day_high if kite_orders['transaction_type'][kite_orders['order_id'] == current_order.at[current_order.loc[current_order['order_type'] == 'SL'].index.values.astype(int)[0], 'order_id']].values[0] == 'BUY' else day_low"
   ]
  },
  {
   "cell_type": "code",
   "execution_count": 27,
   "metadata": {},
   "outputs": [
    {
     "data": {
      "text/plain": [
       "2"
      ]
     },
     "execution_count": 27,
     "metadata": {},
     "output_type": "execute_result"
    }
   ],
   "source": [
    "stoploss"
   ]
  },
  {
   "cell_type": "code",
   "execution_count": 19,
   "metadata": {},
   "outputs": [
    {
     "data": {
      "text/plain": [
       "'b'"
      ]
     },
     "execution_count": 19,
     "metadata": {},
     "output_type": "execute_result"
    }
   ],
   "source": [
    "'a' if kite_orders['transaction_type'][kite_orders['order_id'] == current_order.at[current_order.loc[current_order['order_type'] == 'SL'].index.values.astype(int)[0], 'order_id']].values[0] == 'SELL' else 'b'"
   ]
  },
  {
   "cell_type": "code",
   "execution_count": null,
   "metadata": {},
   "outputs": [],
   "source": [
    "current_order = kite_orders[kite_orders['status'] != 'OPEN']"
   ]
  },
  {
   "cell_type": "code",
   "execution_count": 37,
   "metadata": {},
   "outputs": [
    {
     "data": {
      "text/plain": [
       "order_id            190903001710311\n",
       "order_type                    LIMIT\n",
       "transaction_type                BUY\n",
       "parent_order_id                 NaN\n",
       "price                           366\n",
       "status                     COMPLETE\n",
       "Name: 2, dtype: object"
      ]
     },
     "execution_count": 37,
     "metadata": {},
     "output_type": "execute_result"
    }
   ],
   "source": [
    "kite_orders.loc[2, ['order_id', 'order_type', 'transaction_type', 'parent_order_id', 'price', 'status']]"
   ]
  },
  {
   "cell_type": "code",
   "execution_count": 38,
   "metadata": {},
   "outputs": [
    {
     "data": {
      "text/html": [
       "<div>\n",
       "<style scoped>\n",
       "    .dataframe tbody tr th:only-of-type {\n",
       "        vertical-align: middle;\n",
       "    }\n",
       "\n",
       "    .dataframe tbody tr th {\n",
       "        vertical-align: top;\n",
       "    }\n",
       "\n",
       "    .dataframe thead th {\n",
       "        text-align: right;\n",
       "    }\n",
       "</style>\n",
       "<table border=\"1\" class=\"dataframe\">\n",
       "  <thead>\n",
       "    <tr style=\"text-align: right;\">\n",
       "      <th></th>\n",
       "      <th>order_id</th>\n",
       "      <th>order_type</th>\n",
       "      <th>transaction_type</th>\n",
       "      <th>parent_order_id</th>\n",
       "      <th>price</th>\n",
       "      <th>status</th>\n",
       "    </tr>\n",
       "  </thead>\n",
       "  <tbody>\n",
       "    <tr>\n",
       "      <th>0</th>\n",
       "      <td>190903001710311</td>\n",
       "      <td>LIMIT</td>\n",
       "      <td>BUY</td>\n",
       "      <td>NaN</td>\n",
       "      <td>366.0</td>\n",
       "      <td>COMPLETE</td>\n",
       "    </tr>\n",
       "  </tbody>\n",
       "</table>\n",
       "</div>"
      ],
      "text/plain": [
       "          order_id order_type transaction_type  parent_order_id  price  \\\n",
       "0  190903001710311      LIMIT              BUY              NaN  366.0   \n",
       "\n",
       "     status  \n",
       "0  COMPLETE  "
      ]
     },
     "execution_count": 38,
     "metadata": {},
     "output_type": "execute_result"
    }
   ],
   "source": [
    "current_order"
   ]
  },
  {
   "cell_type": "code",
   "execution_count": null,
   "metadata": {},
   "outputs": [],
   "source": [
    "current_order.loc[(current_order['order_type'] == 'LIMIT') & (current_order['transaction_type'] != 'BUY')].index.values.astype(int)[0]"
   ]
  },
  {
   "cell_type": "code",
   "execution_count": 18,
   "metadata": {},
   "outputs": [
    {
     "ename": "IndexError",
     "evalue": "index 0 is out of bounds for axis 0 with size 0",
     "output_type": "error",
     "traceback": [
      "\u001b[1;31m---------------------------------------------------------------------------\u001b[0m",
      "\u001b[1;31mIndexError\u001b[0m                                Traceback (most recent call last)",
      "\u001b[1;32m<ipython-input-18-78bcf60e30ca>\u001b[0m in \u001b[0;36m<module>\u001b[1;34m\u001b[0m\n\u001b[1;32m----> 1\u001b[1;33m \u001b[1;32mif\u001b[0m \u001b[0mkite_orders\u001b[0m\u001b[1;33m[\u001b[0m\u001b[1;34m'status'\u001b[0m\u001b[1;33m]\u001b[0m\u001b[1;33m[\u001b[0m\u001b[0mkite_orders\u001b[0m\u001b[1;33m[\u001b[0m\u001b[1;34m'order_id'\u001b[0m\u001b[1;33m]\u001b[0m \u001b[1;33m==\u001b[0m \u001b[0mcurrent_order\u001b[0m\u001b[1;33m.\u001b[0m\u001b[0mat\u001b[0m\u001b[1;33m[\u001b[0m\u001b[0mcurrent_order\u001b[0m\u001b[1;33m.\u001b[0m\u001b[0mloc\u001b[0m\u001b[1;33m[\u001b[0m\u001b[1;33m(\u001b[0m\u001b[0mcurrent_order\u001b[0m\u001b[1;33m[\u001b[0m\u001b[1;34m'order_type'\u001b[0m\u001b[1;33m]\u001b[0m \u001b[1;33m==\u001b[0m \u001b[1;34m'LIMIT'\u001b[0m\u001b[1;33m)\u001b[0m \u001b[1;33m&\u001b[0m \u001b[1;33m(\u001b[0m\u001b[0mcurrent_order\u001b[0m\u001b[1;33m[\u001b[0m\u001b[1;34m'transaction_type'\u001b[0m\u001b[1;33m]\u001b[0m \u001b[1;33m!=\u001b[0m \u001b[1;34m'BUY'\u001b[0m\u001b[1;33m)\u001b[0m\u001b[1;33m]\u001b[0m\u001b[1;33m.\u001b[0m\u001b[0mindex\u001b[0m\u001b[1;33m.\u001b[0m\u001b[0mvalues\u001b[0m\u001b[1;33m.\u001b[0m\u001b[0mastype\u001b[0m\u001b[1;33m(\u001b[0m\u001b[0mint\u001b[0m\u001b[1;33m)\u001b[0m\u001b[1;33m[\u001b[0m\u001b[1;36m0\u001b[0m\u001b[1;33m]\u001b[0m\u001b[1;33m,\u001b[0m \u001b[1;34m'order_id'\u001b[0m\u001b[1;33m]\u001b[0m\u001b[1;33m]\u001b[0m\u001b[1;33m.\u001b[0m\u001b[0mvalues\u001b[0m\u001b[1;33m[\u001b[0m\u001b[1;36m0\u001b[0m\u001b[1;33m]\u001b[0m \u001b[1;33m==\u001b[0m \u001b[1;34m'COMPLETE'\u001b[0m\u001b[1;33m:\u001b[0m\u001b[1;33m\u001b[0m\u001b[1;33m\u001b[0m\u001b[0m\n\u001b[0m\u001b[0;32m      2\u001b[0m     \u001b[0mprint\u001b[0m\u001b[1;33m(\u001b[0m\u001b[1;34m\"Target hit\"\u001b[0m\u001b[1;33m)\u001b[0m\u001b[1;33m\u001b[0m\u001b[1;33m\u001b[0m\u001b[0m\n",
      "\u001b[1;31mIndexError\u001b[0m: index 0 is out of bounds for axis 0 with size 0"
     ]
    }
   ],
   "source": [
    "if kite_orders['status'][kite_orders['order_id'] == current_order.at[current_order.loc[(current_order['order_type'] == 'LIMIT') & (current_order['transaction_type'] != 'BUY')].index.values.astype(int)[0], 'order_id']].values[0] == 'COMPLETE':\n",
    "    print(\"Target hit\")"
   ]
  },
  {
   "cell_type": "code",
   "execution_count": null,
   "metadata": {},
   "outputs": [],
   "source": [
    "if kite_orders['status'][kite_orders['order_id'] == current_order.at[current_order.index[current_order['order_type'] == 'LIMIT' and current_order['transaction_type'] != 'transaction_type'], 'order_id']].values[0] == 'COMPLETE':"
   ]
  },
  {
   "cell_type": "code",
   "execution_count": null,
   "metadata": {},
   "outputs": [],
   "source": [
    "current_order.at[current_order.loc[(current_order['order_type'] == 'LIMIT') & (current_order['transaction_type'] != 'BUY')].index.values.astype(int)[0], 'order_id']"
   ]
  },
  {
   "cell_type": "code",
   "execution_count": null,
   "metadata": {},
   "outputs": [],
   "source": [
    "(kite_orders['order_id'] == current_order.at[0, 'order_id']).index.values.astype(int)[0]"
   ]
  },
  {
   "cell_type": "code",
   "execution_count": 31,
   "metadata": {},
   "outputs": [],
   "source": [
    "current_order = current_order.append(kite_orders.loc[kite_orders['parent_order_id'] == current_order.at[0, 'order_id'], ['order_id', 'order_type', 'transaction_type', 'parent_order_id', 'price', 'status']])"
   ]
  },
  {
   "cell_type": "code",
   "execution_count": null,
   "metadata": {},
   "outputs": [],
   "source": [
    "current_order = current_order.reset_index()\n",
    "current_order = kite_orders.loc[(kite_orders['order_id'] == current_order.at[0, 'order_id']).index.values.astype(int)[0], ['order_id', 'order_type', 'transaction_type', 'parent_order_id', 'price', 'status']]"
   ]
  },
  {
   "cell_type": "code",
   "execution_count": 32,
   "metadata": {},
   "outputs": [
    {
     "data": {
      "text/html": [
       "<div>\n",
       "<style scoped>\n",
       "    .dataframe tbody tr th:only-of-type {\n",
       "        vertical-align: middle;\n",
       "    }\n",
       "\n",
       "    .dataframe tbody tr th {\n",
       "        vertical-align: top;\n",
       "    }\n",
       "\n",
       "    .dataframe thead th {\n",
       "        text-align: right;\n",
       "    }\n",
       "</style>\n",
       "<table border=\"1\" class=\"dataframe\">\n",
       "  <thead>\n",
       "    <tr style=\"text-align: right;\">\n",
       "      <th></th>\n",
       "      <th>order_id</th>\n",
       "      <th>order_type</th>\n",
       "      <th>transaction_type</th>\n",
       "      <th>parent_order_id</th>\n",
       "      <th>price</th>\n",
       "      <th>status</th>\n",
       "    </tr>\n",
       "  </thead>\n",
       "  <tbody>\n",
       "    <tr>\n",
       "      <th>0</th>\n",
       "      <td>190903001710311</td>\n",
       "      <td>LIMIT</td>\n",
       "      <td>BUY</td>\n",
       "      <td>NaN</td>\n",
       "      <td>366.00</td>\n",
       "      <td>COMPLETE</td>\n",
       "    </tr>\n",
       "    <tr>\n",
       "      <th>3</th>\n",
       "      <td>190903001722562</td>\n",
       "      <td>LIMIT</td>\n",
       "      <td>SELL</td>\n",
       "      <td>1.909030e+14</td>\n",
       "      <td>371.00</td>\n",
       "      <td>OPEN</td>\n",
       "    </tr>\n",
       "    <tr>\n",
       "      <th>4</th>\n",
       "      <td>190903001722563</td>\n",
       "      <td>SL</td>\n",
       "      <td>SELL</td>\n",
       "      <td>1.909030e+14</td>\n",
       "      <td>329.15</td>\n",
       "      <td>TRIGGER PENDING</td>\n",
       "    </tr>\n",
       "  </tbody>\n",
       "</table>\n",
       "</div>"
      ],
      "text/plain": [
       "          order_id order_type transaction_type  parent_order_id   price  \\\n",
       "0  190903001710311      LIMIT              BUY              NaN  366.00   \n",
       "3  190903001722562      LIMIT             SELL     1.909030e+14  371.00   \n",
       "4  190903001722563         SL             SELL     1.909030e+14  329.15   \n",
       "\n",
       "            status  \n",
       "0         COMPLETE  \n",
       "3             OPEN  \n",
       "4  TRIGGER PENDING  "
      ]
     },
     "execution_count": 32,
     "metadata": {},
     "output_type": "execute_result"
    }
   ],
   "source": [
    "current_order"
   ]
  },
  {
   "cell_type": "code",
   "execution_count": null,
   "metadata": {},
   "outputs": [],
   "source": [
    "print(current_order)"
   ]
  },
  {
   "cell_type": "code",
   "execution_count": 42,
   "metadata": {},
   "outputs": [],
   "source": [
    "current_order = current_order[current_order['status'] != 'COMPLETE']\n",
    "current_order = current_order.reset_index(drop=True)"
   ]
  },
  {
   "cell_type": "code",
   "execution_count": 51,
   "metadata": {},
   "outputs": [
    {
     "data": {
      "text/html": [
       "<div>\n",
       "<style scoped>\n",
       "    .dataframe tbody tr th:only-of-type {\n",
       "        vertical-align: middle;\n",
       "    }\n",
       "\n",
       "    .dataframe tbody tr th {\n",
       "        vertical-align: top;\n",
       "    }\n",
       "\n",
       "    .dataframe thead th {\n",
       "        text-align: right;\n",
       "    }\n",
       "</style>\n",
       "<table border=\"1\" class=\"dataframe\">\n",
       "  <thead>\n",
       "    <tr style=\"text-align: right;\">\n",
       "      <th></th>\n",
       "      <th>order_id</th>\n",
       "      <th>transaction_type</th>\n",
       "      <th>price</th>\n",
       "      <th>stoploss</th>\n",
       "      <th>target</th>\n",
       "      <th>status</th>\n",
       "      <th>semi-target_status</th>\n",
       "      <th>target_status</th>\n",
       "      <th>stoploss_status</th>\n",
       "      <th>day_high</th>\n",
       "      <th>day_low</th>\n",
       "    </tr>\n",
       "  </thead>\n",
       "  <tbody>\n",
       "  </tbody>\n",
       "</table>\n",
       "</div>"
      ],
      "text/plain": [
       "Empty DataFrame\n",
       "Columns: [order_id, transaction_type, price, stoploss, target, status, semi-target_status, target_status, stoploss_status, day_high, day_low]\n",
       "Index: []"
      ]
     },
     "execution_count": 51,
     "metadata": {},
     "output_type": "execute_result"
    }
   ],
   "source": [
    "strategy_orders = pd.DataFrame(columns=['order_id', 'transaction_type', 'price', 'stoploss', 'target', 'status', 'semi-target_status', 'target_status', 'stoploss_status', 'day_high', 'day_low'])\n",
    "strategy_orders"
   ]
  },
  {
   "cell_type": "code",
   "execution_count": 49,
   "metadata": {},
   "outputs": [
    {
     "data": {
      "text/html": [
       "<div>\n",
       "<style scoped>\n",
       "    .dataframe tbody tr th:only-of-type {\n",
       "        vertical-align: middle;\n",
       "    }\n",
       "\n",
       "    .dataframe tbody tr th {\n",
       "        vertical-align: top;\n",
       "    }\n",
       "\n",
       "    .dataframe thead th {\n",
       "        text-align: right;\n",
       "    }\n",
       "</style>\n",
       "<table border=\"1\" class=\"dataframe\">\n",
       "  <thead>\n",
       "    <tr style=\"text-align: right;\">\n",
       "      <th></th>\n",
       "      <th>order_id</th>\n",
       "      <th>order_type</th>\n",
       "      <th>transaction_type</th>\n",
       "      <th>parent_order_id</th>\n",
       "      <th>price</th>\n",
       "      <th>status</th>\n",
       "      <th>semi-target_flag</th>\n",
       "      <th>target_flag</th>\n",
       "      <th>stoploss_flag</th>\n",
       "      <th>stoploss</th>\n",
       "      <th>target</th>\n",
       "    </tr>\n",
       "  </thead>\n",
       "  <tbody>\n",
       "    <tr>\n",
       "      <th>0</th>\n",
       "      <td>190903001722562</td>\n",
       "      <td>LIMIT</td>\n",
       "      <td>SELL</td>\n",
       "      <td>1.909030e+14</td>\n",
       "      <td>371.00</td>\n",
       "      <td>OPEN</td>\n",
       "      <td>0</td>\n",
       "      <td>0</td>\n",
       "      <td>0</td>\n",
       "      <td>0</td>\n",
       "      <td>0</td>\n",
       "    </tr>\n",
       "    <tr>\n",
       "      <th>1</th>\n",
       "      <td>190903001722563</td>\n",
       "      <td>SL</td>\n",
       "      <td>SELL</td>\n",
       "      <td>1.909030e+14</td>\n",
       "      <td>329.15</td>\n",
       "      <td>TRIGGER PENDING</td>\n",
       "      <td>0</td>\n",
       "      <td>0</td>\n",
       "      <td>0</td>\n",
       "      <td>0</td>\n",
       "      <td>0</td>\n",
       "    </tr>\n",
       "  </tbody>\n",
       "</table>\n",
       "</div>"
      ],
      "text/plain": [
       "          order_id order_type transaction_type  parent_order_id   price  \\\n",
       "0  190903001722562      LIMIT             SELL     1.909030e+14  371.00   \n",
       "1  190903001722563         SL             SELL     1.909030e+14  329.15   \n",
       "\n",
       "            status  semi-target_flag  target_flag  stoploss_flag  stoploss  \\\n",
       "0             OPEN                 0            0              0         0   \n",
       "1  TRIGGER PENDING                 0            0              0         0   \n",
       "\n",
       "   target  \n",
       "0       0  \n",
       "1       0  "
      ]
     },
     "execution_count": 49,
     "metadata": {},
     "output_type": "execute_result"
    }
   ],
   "source": [
    "current_order['stoploss'] = 0\n",
    "current_order['target'] = 0\n",
    "current_order['semi-target_flag'] = 0\n",
    "current_order['target_flag'] = 0\n",
    "current_order['stoploss_flag'] = 0\n"
   ]
  },
  {
   "cell_type": "code",
   "execution_count": 50,
   "metadata": {},
   "outputs": [
    {
     "data": {
      "text/html": [
       "<div>\n",
       "<style scoped>\n",
       "    .dataframe tbody tr th:only-of-type {\n",
       "        vertical-align: middle;\n",
       "    }\n",
       "\n",
       "    .dataframe tbody tr th {\n",
       "        vertical-align: top;\n",
       "    }\n",
       "\n",
       "    .dataframe thead th {\n",
       "        text-align: right;\n",
       "    }\n",
       "</style>\n",
       "<table border=\"1\" class=\"dataframe\">\n",
       "  <thead>\n",
       "    <tr style=\"text-align: right;\">\n",
       "      <th></th>\n",
       "      <th>Unnamed: 0</th>\n",
       "      <th>average_price</th>\n",
       "      <th>cancelled_quantity</th>\n",
       "      <th>disclosed_quantity</th>\n",
       "      <th>exchange</th>\n",
       "      <th>exchange_order_id</th>\n",
       "      <th>exchange_timestamp</th>\n",
       "      <th>exchange_update_timestamp</th>\n",
       "      <th>filled_quantity</th>\n",
       "      <th>guid</th>\n",
       "      <th>...</th>\n",
       "      <th>quantity</th>\n",
       "      <th>status</th>\n",
       "      <th>status_message</th>\n",
       "      <th>status_message_raw</th>\n",
       "      <th>tag</th>\n",
       "      <th>tradingsymbol</th>\n",
       "      <th>transaction_type</th>\n",
       "      <th>trigger_price</th>\n",
       "      <th>validity</th>\n",
       "      <th>variety</th>\n",
       "    </tr>\n",
       "  </thead>\n",
       "  <tbody>\n",
       "    <tr>\n",
       "      <th>0</th>\n",
       "      <td>0</td>\n",
       "      <td>364.85</td>\n",
       "      <td>0</td>\n",
       "      <td>0</td>\n",
       "      <td>NSE</td>\n",
       "      <td>1000000003684051</td>\n",
       "      <td>2019-09-03 12:45:53</td>\n",
       "      <td>2019-09-03 12:45:53</td>\n",
       "      <td>1</td>\n",
       "      <td>12499XtgLHMdkdKPb0</td>\n",
       "      <td>...</td>\n",
       "      <td>1</td>\n",
       "      <td>COMPLETE</td>\n",
       "      <td>NaN</td>\n",
       "      <td>NaN</td>\n",
       "      <td>NaN</td>\n",
       "      <td>ADANIPORTS</td>\n",
       "      <td>BUY</td>\n",
       "      <td>0</td>\n",
       "      <td>DAY</td>\n",
       "      <td>regular</td>\n",
       "    </tr>\n",
       "    <tr>\n",
       "      <th>1</th>\n",
       "      <td>1</td>\n",
       "      <td>365.55</td>\n",
       "      <td>0</td>\n",
       "      <td>0</td>\n",
       "      <td>NSE</td>\n",
       "      <td>1000000003828581</td>\n",
       "      <td>2019-09-03 12:50:48</td>\n",
       "      <td>2019-09-03 12:50:48</td>\n",
       "      <td>1</td>\n",
       "      <td>01X6vQVkrdDNqDg</td>\n",
       "      <td>...</td>\n",
       "      <td>1</td>\n",
       "      <td>COMPLETE</td>\n",
       "      <td>NaN</td>\n",
       "      <td>NaN</td>\n",
       "      <td>NaN</td>\n",
       "      <td>ADANIPORTS</td>\n",
       "      <td>SELL</td>\n",
       "      <td>0</td>\n",
       "      <td>DAY</td>\n",
       "      <td>regular</td>\n",
       "    </tr>\n",
       "    <tr>\n",
       "      <th>2</th>\n",
       "      <td>2</td>\n",
       "      <td>366.00</td>\n",
       "      <td>0</td>\n",
       "      <td>0</td>\n",
       "      <td>NSE</td>\n",
       "      <td>1000000003834690</td>\n",
       "      <td>2019-09-03 12:53:54</td>\n",
       "      <td>2019-09-03 12:54:05</td>\n",
       "      <td>1</td>\n",
       "      <td>12499XEzsb7Humbp2Q</td>\n",
       "      <td>...</td>\n",
       "      <td>1</td>\n",
       "      <td>COMPLETE</td>\n",
       "      <td>NaN</td>\n",
       "      <td>NaN</td>\n",
       "      <td>NaN</td>\n",
       "      <td>ADANIPORTS</td>\n",
       "      <td>BUY</td>\n",
       "      <td>0</td>\n",
       "      <td>DAY</td>\n",
       "      <td>bo</td>\n",
       "    </tr>\n",
       "    <tr>\n",
       "      <th>3</th>\n",
       "      <td>3</td>\n",
       "      <td>0.00</td>\n",
       "      <td>0</td>\n",
       "      <td>1</td>\n",
       "      <td>NSE</td>\n",
       "      <td>1000000003862606</td>\n",
       "      <td>2019-09-03 12:54:05</td>\n",
       "      <td>2019-09-03 12:54:05</td>\n",
       "      <td>0</td>\n",
       "      <td>NaN</td>\n",
       "      <td>...</td>\n",
       "      <td>1</td>\n",
       "      <td>OPEN</td>\n",
       "      <td>NaN</td>\n",
       "      <td>NaN</td>\n",
       "      <td>NaN</td>\n",
       "      <td>ADANIPORTS</td>\n",
       "      <td>SELL</td>\n",
       "      <td>0</td>\n",
       "      <td>DAY</td>\n",
       "      <td>bo</td>\n",
       "    </tr>\n",
       "    <tr>\n",
       "      <th>4</th>\n",
       "      <td>4</td>\n",
       "      <td>0.00</td>\n",
       "      <td>0</td>\n",
       "      <td>1</td>\n",
       "      <td>NSE</td>\n",
       "      <td>1000000003862607</td>\n",
       "      <td>2019-09-03 12:54:05</td>\n",
       "      <td>2019-09-03 12:54:05</td>\n",
       "      <td>0</td>\n",
       "      <td>NaN</td>\n",
       "      <td>...</td>\n",
       "      <td>1</td>\n",
       "      <td>TRIGGER PENDING</td>\n",
       "      <td>NaN</td>\n",
       "      <td>NaN</td>\n",
       "      <td>NaN</td>\n",
       "      <td>ADANIPORTS</td>\n",
       "      <td>SELL</td>\n",
       "      <td>363</td>\n",
       "      <td>DAY</td>\n",
       "      <td>bo</td>\n",
       "    </tr>\n",
       "  </tbody>\n",
       "</table>\n",
       "<p>5 rows × 30 columns</p>\n",
       "</div>"
      ],
      "text/plain": [
       "   Unnamed: 0  average_price  cancelled_quantity  disclosed_quantity exchange  \\\n",
       "0           0         364.85                   0                   0      NSE   \n",
       "1           1         365.55                   0                   0      NSE   \n",
       "2           2         366.00                   0                   0      NSE   \n",
       "3           3           0.00                   0                   1      NSE   \n",
       "4           4           0.00                   0                   1      NSE   \n",
       "\n",
       "   exchange_order_id   exchange_timestamp exchange_update_timestamp  \\\n",
       "0   1000000003684051  2019-09-03 12:45:53       2019-09-03 12:45:53   \n",
       "1   1000000003828581  2019-09-03 12:50:48       2019-09-03 12:50:48   \n",
       "2   1000000003834690  2019-09-03 12:53:54       2019-09-03 12:54:05   \n",
       "3   1000000003862606  2019-09-03 12:54:05       2019-09-03 12:54:05   \n",
       "4   1000000003862607  2019-09-03 12:54:05       2019-09-03 12:54:05   \n",
       "\n",
       "   filled_quantity                guid  ...  quantity           status  \\\n",
       "0                1  12499XtgLHMdkdKPb0  ...         1         COMPLETE   \n",
       "1                1     01X6vQVkrdDNqDg  ...         1         COMPLETE   \n",
       "2                1  12499XEzsb7Humbp2Q  ...         1         COMPLETE   \n",
       "3                0                 NaN  ...         1             OPEN   \n",
       "4                0                 NaN  ...         1  TRIGGER PENDING   \n",
       "\n",
       "   status_message status_message_raw tag  tradingsymbol  transaction_type  \\\n",
       "0             NaN                NaN NaN     ADANIPORTS               BUY   \n",
       "1             NaN                NaN NaN     ADANIPORTS              SELL   \n",
       "2             NaN                NaN NaN     ADANIPORTS               BUY   \n",
       "3             NaN                NaN NaN     ADANIPORTS              SELL   \n",
       "4             NaN                NaN NaN     ADANIPORTS              SELL   \n",
       "\n",
       "  trigger_price  validity  variety  \n",
       "0             0       DAY  regular  \n",
       "1             0       DAY  regular  \n",
       "2             0       DAY       bo  \n",
       "3             0       DAY       bo  \n",
       "4           363       DAY       bo  \n",
       "\n",
       "[5 rows x 30 columns]"
      ]
     },
     "execution_count": 50,
     "metadata": {},
     "output_type": "execute_result"
    }
   ],
   "source": [
    "kite_orders"
   ]
  },
  {
   "cell_type": "code",
   "execution_count": 52,
   "metadata": {},
   "outputs": [],
   "source": [
    "kite_orders.at[kite_orders['order_id'] == current_order.at[0,'order_id'], 'average_price'] = 999"
   ]
  },
  {
   "cell_type": "code",
   "execution_count": 58,
   "metadata": {},
   "outputs": [],
   "source": [
    "kite_orders = kite_orders.reset_index(drop=True)\n",
    "current_order = current_order.reset_index(drop=True)"
   ]
  },
  {
   "cell_type": "code",
   "execution_count": 60,
   "metadata": {},
   "outputs": [
    {
     "data": {
      "text/html": [
       "<div>\n",
       "<style scoped>\n",
       "    .dataframe tbody tr th:only-of-type {\n",
       "        vertical-align: middle;\n",
       "    }\n",
       "\n",
       "    .dataframe tbody tr th {\n",
       "        vertical-align: top;\n",
       "    }\n",
       "\n",
       "    .dataframe thead th {\n",
       "        text-align: right;\n",
       "    }\n",
       "</style>\n",
       "<table border=\"1\" class=\"dataframe\">\n",
       "  <thead>\n",
       "    <tr style=\"text-align: right;\">\n",
       "      <th></th>\n",
       "      <th>Unnamed: 0</th>\n",
       "      <th>average_price</th>\n",
       "      <th>cancelled_quantity</th>\n",
       "      <th>disclosed_quantity</th>\n",
       "      <th>exchange</th>\n",
       "      <th>exchange_order_id</th>\n",
       "      <th>exchange_timestamp</th>\n",
       "      <th>exchange_update_timestamp</th>\n",
       "      <th>filled_quantity</th>\n",
       "      <th>guid</th>\n",
       "      <th>...</th>\n",
       "      <th>quantity</th>\n",
       "      <th>status</th>\n",
       "      <th>status_message</th>\n",
       "      <th>status_message_raw</th>\n",
       "      <th>tag</th>\n",
       "      <th>tradingsymbol</th>\n",
       "      <th>transaction_type</th>\n",
       "      <th>trigger_price</th>\n",
       "      <th>validity</th>\n",
       "      <th>variety</th>\n",
       "    </tr>\n",
       "  </thead>\n",
       "  <tbody>\n",
       "    <tr>\n",
       "      <th>0</th>\n",
       "      <td>0</td>\n",
       "      <td>364.85</td>\n",
       "      <td>0</td>\n",
       "      <td>0</td>\n",
       "      <td>NSE</td>\n",
       "      <td>1000000003684051</td>\n",
       "      <td>2019-09-03 12:45:53</td>\n",
       "      <td>2019-09-03 12:45:53</td>\n",
       "      <td>1</td>\n",
       "      <td>12499XtgLHMdkdKPb0</td>\n",
       "      <td>...</td>\n",
       "      <td>1</td>\n",
       "      <td>COMPLETE</td>\n",
       "      <td>NaN</td>\n",
       "      <td>NaN</td>\n",
       "      <td>NaN</td>\n",
       "      <td>ADANIPORTS</td>\n",
       "      <td>BUY</td>\n",
       "      <td>0</td>\n",
       "      <td>DAY</td>\n",
       "      <td>regular</td>\n",
       "    </tr>\n",
       "    <tr>\n",
       "      <th>1</th>\n",
       "      <td>1</td>\n",
       "      <td>365.55</td>\n",
       "      <td>0</td>\n",
       "      <td>0</td>\n",
       "      <td>NSE</td>\n",
       "      <td>1000000003828581</td>\n",
       "      <td>2019-09-03 12:50:48</td>\n",
       "      <td>2019-09-03 12:50:48</td>\n",
       "      <td>1</td>\n",
       "      <td>01X6vQVkrdDNqDg</td>\n",
       "      <td>...</td>\n",
       "      <td>1</td>\n",
       "      <td>COMPLETE</td>\n",
       "      <td>NaN</td>\n",
       "      <td>NaN</td>\n",
       "      <td>NaN</td>\n",
       "      <td>ADANIPORTS</td>\n",
       "      <td>SELL</td>\n",
       "      <td>0</td>\n",
       "      <td>DAY</td>\n",
       "      <td>regular</td>\n",
       "    </tr>\n",
       "    <tr>\n",
       "      <th>2</th>\n",
       "      <td>2</td>\n",
       "      <td>366.00</td>\n",
       "      <td>0</td>\n",
       "      <td>0</td>\n",
       "      <td>NSE</td>\n",
       "      <td>1000000003834690</td>\n",
       "      <td>2019-09-03 12:53:54</td>\n",
       "      <td>2019-09-03 12:54:05</td>\n",
       "      <td>1</td>\n",
       "      <td>12499XEzsb7Humbp2Q</td>\n",
       "      <td>...</td>\n",
       "      <td>1</td>\n",
       "      <td>COMPLETE</td>\n",
       "      <td>NaN</td>\n",
       "      <td>NaN</td>\n",
       "      <td>NaN</td>\n",
       "      <td>ADANIPORTS</td>\n",
       "      <td>BUY</td>\n",
       "      <td>0</td>\n",
       "      <td>DAY</td>\n",
       "      <td>bo</td>\n",
       "    </tr>\n",
       "    <tr>\n",
       "      <th>3</th>\n",
       "      <td>3</td>\n",
       "      <td>999.00</td>\n",
       "      <td>0</td>\n",
       "      <td>1</td>\n",
       "      <td>NSE</td>\n",
       "      <td>1000000003862606</td>\n",
       "      <td>2019-09-03 12:54:05</td>\n",
       "      <td>2019-09-03 12:54:05</td>\n",
       "      <td>0</td>\n",
       "      <td>NaN</td>\n",
       "      <td>...</td>\n",
       "      <td>1</td>\n",
       "      <td>OPEN</td>\n",
       "      <td>NaN</td>\n",
       "      <td>NaN</td>\n",
       "      <td>NaN</td>\n",
       "      <td>ADANIPORTS</td>\n",
       "      <td>SELL</td>\n",
       "      <td>0</td>\n",
       "      <td>DAY</td>\n",
       "      <td>bo</td>\n",
       "    </tr>\n",
       "    <tr>\n",
       "      <th>4</th>\n",
       "      <td>4</td>\n",
       "      <td>0.00</td>\n",
       "      <td>0</td>\n",
       "      <td>1</td>\n",
       "      <td>NSE</td>\n",
       "      <td>1000000003862607</td>\n",
       "      <td>2019-09-03 12:54:05</td>\n",
       "      <td>2019-09-03 12:54:05</td>\n",
       "      <td>0</td>\n",
       "      <td>NaN</td>\n",
       "      <td>...</td>\n",
       "      <td>1</td>\n",
       "      <td>TRIGGER PENDING</td>\n",
       "      <td>NaN</td>\n",
       "      <td>NaN</td>\n",
       "      <td>NaN</td>\n",
       "      <td>ADANIPORTS</td>\n",
       "      <td>SELL</td>\n",
       "      <td>363</td>\n",
       "      <td>DAY</td>\n",
       "      <td>bo</td>\n",
       "    </tr>\n",
       "  </tbody>\n",
       "</table>\n",
       "<p>5 rows × 30 columns</p>\n",
       "</div>"
      ],
      "text/plain": [
       "   Unnamed: 0  average_price  cancelled_quantity  disclosed_quantity exchange  \\\n",
       "0           0         364.85                   0                   0      NSE   \n",
       "1           1         365.55                   0                   0      NSE   \n",
       "2           2         366.00                   0                   0      NSE   \n",
       "3           3         999.00                   0                   1      NSE   \n",
       "4           4           0.00                   0                   1      NSE   \n",
       "\n",
       "   exchange_order_id   exchange_timestamp exchange_update_timestamp  \\\n",
       "0   1000000003684051  2019-09-03 12:45:53       2019-09-03 12:45:53   \n",
       "1   1000000003828581  2019-09-03 12:50:48       2019-09-03 12:50:48   \n",
       "2   1000000003834690  2019-09-03 12:53:54       2019-09-03 12:54:05   \n",
       "3   1000000003862606  2019-09-03 12:54:05       2019-09-03 12:54:05   \n",
       "4   1000000003862607  2019-09-03 12:54:05       2019-09-03 12:54:05   \n",
       "\n",
       "   filled_quantity                guid  ...  quantity           status  \\\n",
       "0                1  12499XtgLHMdkdKPb0  ...         1         COMPLETE   \n",
       "1                1     01X6vQVkrdDNqDg  ...         1         COMPLETE   \n",
       "2                1  12499XEzsb7Humbp2Q  ...         1         COMPLETE   \n",
       "3                0                 NaN  ...         1             OPEN   \n",
       "4                0                 NaN  ...         1  TRIGGER PENDING   \n",
       "\n",
       "   status_message status_message_raw tag  tradingsymbol  transaction_type  \\\n",
       "0             NaN                NaN NaN     ADANIPORTS               BUY   \n",
       "1             NaN                NaN NaN     ADANIPORTS              SELL   \n",
       "2             NaN                NaN NaN     ADANIPORTS               BUY   \n",
       "3             NaN                NaN NaN     ADANIPORTS              SELL   \n",
       "4             NaN                NaN NaN     ADANIPORTS              SELL   \n",
       "\n",
       "  trigger_price  validity  variety  \n",
       "0             0       DAY  regular  \n",
       "1             0       DAY  regular  \n",
       "2             0       DAY       bo  \n",
       "3             0       DAY       bo  \n",
       "4           363       DAY       bo  \n",
       "\n",
       "[5 rows x 30 columns]"
      ]
     },
     "execution_count": 60,
     "metadata": {},
     "output_type": "execute_result"
    }
   ],
   "source": [
    "kite_orders"
   ]
  },
  {
   "cell_type": "code",
   "execution_count": 26,
   "metadata": {},
   "outputs": [
    {
     "data": {
      "text/html": [
       "<div>\n",
       "<style scoped>\n",
       "    .dataframe tbody tr th:only-of-type {\n",
       "        vertical-align: middle;\n",
       "    }\n",
       "\n",
       "    .dataframe tbody tr th {\n",
       "        vertical-align: top;\n",
       "    }\n",
       "\n",
       "    .dataframe thead th {\n",
       "        text-align: right;\n",
       "    }\n",
       "</style>\n",
       "<table border=\"1\" class=\"dataframe\">\n",
       "  <thead>\n",
       "    <tr style=\"text-align: right;\">\n",
       "      <th></th>\n",
       "      <th>order_id</th>\n",
       "      <th>order_type</th>\n",
       "      <th>transaction_type</th>\n",
       "      <th>parent_order_id</th>\n",
       "      <th>price</th>\n",
       "      <th>status</th>\n",
       "    </tr>\n",
       "  </thead>\n",
       "  <tbody>\n",
       "    <tr>\n",
       "      <th>0</th>\n",
       "      <td>190903001710311</td>\n",
       "      <td>LIMIT</td>\n",
       "      <td>BUY</td>\n",
       "      <td>NaN</td>\n",
       "      <td>366.0</td>\n",
       "      <td>COMPLETE</td>\n",
       "    </tr>\n",
       "  </tbody>\n",
       "</table>\n",
       "</div>"
      ],
      "text/plain": [
       "          order_id order_type transaction_type  parent_order_id  price  \\\n",
       "0  190903001710311      LIMIT              BUY              NaN  366.0   \n",
       "\n",
       "     status  \n",
       "0  COMPLETE  "
      ]
     },
     "execution_count": 26,
     "metadata": {},
     "output_type": "execute_result"
    }
   ],
   "source": [
    "current_order"
   ]
  },
  {
   "cell_type": "code",
   "execution_count": 72,
   "metadata": {},
   "outputs": [
    {
     "data": {
      "text/plain": [
       "3    999.0\n",
       "Name: average_price, dtype: float64"
      ]
     },
     "execution_count": 72,
     "metadata": {},
     "output_type": "execute_result"
    }
   ],
   "source": [
    "ap = kite_orders.loc[kite_orders['order_id'] == current_order.loc[0,'order_id'], 'average_price']\n",
    "ap"
   ]
  },
  {
   "cell_type": "code",
   "execution_count": 66,
   "metadata": {},
   "outputs": [
    {
     "data": {
      "text/plain": [
       "0    False\n",
       "1    False\n",
       "2    False\n",
       "3     True\n",
       "4    False\n",
       "Name: order_id, dtype: bool"
      ]
     },
     "execution_count": 66,
     "metadata": {},
     "output_type": "execute_result"
    }
   ],
   "source": [
    "(kite_orders['order_id'] == current_order.at[0,'order_id'])"
   ]
  },
  {
   "cell_type": "code",
   "execution_count": 64,
   "metadata": {},
   "outputs": [
    {
     "data": {
      "text/plain": [
       "190903001722562"
      ]
     },
     "execution_count": 64,
     "metadata": {},
     "output_type": "execute_result"
    }
   ],
   "source": [
    "current_order.at[0,'order_id']"
   ]
  },
  {
   "cell_type": "code",
   "execution_count": 65,
   "metadata": {},
   "outputs": [
    {
     "data": {
      "text/plain": [
       "0    190903001642183\n",
       "1    190903001707491\n",
       "2    190903001710311\n",
       "3    190903001722562\n",
       "4    190903001722563\n",
       "Name: order_id, dtype: int64"
      ]
     },
     "execution_count": 65,
     "metadata": {},
     "output_type": "execute_result"
    }
   ],
   "source": [
    "kite_orders['order_id']"
   ]
  },
  {
   "cell_type": "code",
   "execution_count": 73,
   "metadata": {},
   "outputs": [
    {
     "data": {
      "text/html": [
       "<div>\n",
       "<style scoped>\n",
       "    .dataframe tbody tr th:only-of-type {\n",
       "        vertical-align: middle;\n",
       "    }\n",
       "\n",
       "    .dataframe tbody tr th {\n",
       "        vertical-align: top;\n",
       "    }\n",
       "\n",
       "    .dataframe thead th {\n",
       "        text-align: right;\n",
       "    }\n",
       "</style>\n",
       "<table border=\"1\" class=\"dataframe\">\n",
       "  <thead>\n",
       "    <tr style=\"text-align: right;\">\n",
       "      <th></th>\n",
       "      <th>Unnamed: 0</th>\n",
       "      <th>average_price</th>\n",
       "      <th>cancelled_quantity</th>\n",
       "      <th>disclosed_quantity</th>\n",
       "      <th>exchange</th>\n",
       "      <th>exchange_order_id</th>\n",
       "      <th>exchange_timestamp</th>\n",
       "      <th>exchange_update_timestamp</th>\n",
       "      <th>filled_quantity</th>\n",
       "      <th>guid</th>\n",
       "      <th>...</th>\n",
       "      <th>quantity</th>\n",
       "      <th>status</th>\n",
       "      <th>status_message</th>\n",
       "      <th>status_message_raw</th>\n",
       "      <th>tag</th>\n",
       "      <th>tradingsymbol</th>\n",
       "      <th>transaction_type</th>\n",
       "      <th>trigger_price</th>\n",
       "      <th>validity</th>\n",
       "      <th>variety</th>\n",
       "    </tr>\n",
       "  </thead>\n",
       "  <tbody>\n",
       "    <tr>\n",
       "      <th>0</th>\n",
       "      <td>0.0</td>\n",
       "      <td>364.85</td>\n",
       "      <td>0.0</td>\n",
       "      <td>0.0</td>\n",
       "      <td>NSE</td>\n",
       "      <td>1.000000e+15</td>\n",
       "      <td>2019-09-03 12:45:53</td>\n",
       "      <td>2019-09-03 12:45:53</td>\n",
       "      <td>1.0</td>\n",
       "      <td>12499XtgLHMdkdKPb0</td>\n",
       "      <td>...</td>\n",
       "      <td>1.0</td>\n",
       "      <td>COMPLETE</td>\n",
       "      <td>NaN</td>\n",
       "      <td>NaN</td>\n",
       "      <td>NaN</td>\n",
       "      <td>ADANIPORTS</td>\n",
       "      <td>BUY</td>\n",
       "      <td>0.0</td>\n",
       "      <td>DAY</td>\n",
       "      <td>regular</td>\n",
       "    </tr>\n",
       "    <tr>\n",
       "      <th>1</th>\n",
       "      <td>1.0</td>\n",
       "      <td>365.55</td>\n",
       "      <td>0.0</td>\n",
       "      <td>0.0</td>\n",
       "      <td>NSE</td>\n",
       "      <td>1.000000e+15</td>\n",
       "      <td>2019-09-03 12:50:48</td>\n",
       "      <td>2019-09-03 12:50:48</td>\n",
       "      <td>1.0</td>\n",
       "      <td>01X6vQVkrdDNqDg</td>\n",
       "      <td>...</td>\n",
       "      <td>1.0</td>\n",
       "      <td>COMPLETE</td>\n",
       "      <td>NaN</td>\n",
       "      <td>NaN</td>\n",
       "      <td>NaN</td>\n",
       "      <td>ADANIPORTS</td>\n",
       "      <td>SELL</td>\n",
       "      <td>0.0</td>\n",
       "      <td>DAY</td>\n",
       "      <td>regular</td>\n",
       "    </tr>\n",
       "    <tr>\n",
       "      <th>2</th>\n",
       "      <td>2.0</td>\n",
       "      <td>366.00</td>\n",
       "      <td>0.0</td>\n",
       "      <td>0.0</td>\n",
       "      <td>NSE</td>\n",
       "      <td>1.000000e+15</td>\n",
       "      <td>2019-09-03 12:53:54</td>\n",
       "      <td>2019-09-03 12:54:05</td>\n",
       "      <td>1.0</td>\n",
       "      <td>12499XEzsb7Humbp2Q</td>\n",
       "      <td>...</td>\n",
       "      <td>1.0</td>\n",
       "      <td>COMPLETE</td>\n",
       "      <td>NaN</td>\n",
       "      <td>NaN</td>\n",
       "      <td>NaN</td>\n",
       "      <td>ADANIPORTS</td>\n",
       "      <td>BUY</td>\n",
       "      <td>0.0</td>\n",
       "      <td>DAY</td>\n",
       "      <td>bo</td>\n",
       "    </tr>\n",
       "    <tr>\n",
       "      <th>3</th>\n",
       "      <td>NaN</td>\n",
       "      <td>NaN</td>\n",
       "      <td>NaN</td>\n",
       "      <td>NaN</td>\n",
       "      <td>NaN</td>\n",
       "      <td>NaN</td>\n",
       "      <td>NaN</td>\n",
       "      <td>NaN</td>\n",
       "      <td>NaN</td>\n",
       "      <td>NaN</td>\n",
       "      <td>...</td>\n",
       "      <td>NaN</td>\n",
       "      <td>NaN</td>\n",
       "      <td>NaN</td>\n",
       "      <td>NaN</td>\n",
       "      <td>NaN</td>\n",
       "      <td>NaN</td>\n",
       "      <td>NaN</td>\n",
       "      <td>NaN</td>\n",
       "      <td>NaN</td>\n",
       "      <td>NaN</td>\n",
       "    </tr>\n",
       "    <tr>\n",
       "      <th>4</th>\n",
       "      <td>NaN</td>\n",
       "      <td>NaN</td>\n",
       "      <td>NaN</td>\n",
       "      <td>NaN</td>\n",
       "      <td>NaN</td>\n",
       "      <td>NaN</td>\n",
       "      <td>NaN</td>\n",
       "      <td>NaN</td>\n",
       "      <td>NaN</td>\n",
       "      <td>NaN</td>\n",
       "      <td>...</td>\n",
       "      <td>NaN</td>\n",
       "      <td>NaN</td>\n",
       "      <td>NaN</td>\n",
       "      <td>NaN</td>\n",
       "      <td>NaN</td>\n",
       "      <td>NaN</td>\n",
       "      <td>NaN</td>\n",
       "      <td>NaN</td>\n",
       "      <td>NaN</td>\n",
       "      <td>NaN</td>\n",
       "    </tr>\n",
       "  </tbody>\n",
       "</table>\n",
       "<p>5 rows × 30 columns</p>\n",
       "</div>"
      ],
      "text/plain": [
       "   Unnamed: 0  average_price  cancelled_quantity  disclosed_quantity exchange  \\\n",
       "0         0.0         364.85                 0.0                 0.0      NSE   \n",
       "1         1.0         365.55                 0.0                 0.0      NSE   \n",
       "2         2.0         366.00                 0.0                 0.0      NSE   \n",
       "3         NaN            NaN                 NaN                 NaN      NaN   \n",
       "4         NaN            NaN                 NaN                 NaN      NaN   \n",
       "\n",
       "   exchange_order_id   exchange_timestamp exchange_update_timestamp  \\\n",
       "0       1.000000e+15  2019-09-03 12:45:53       2019-09-03 12:45:53   \n",
       "1       1.000000e+15  2019-09-03 12:50:48       2019-09-03 12:50:48   \n",
       "2       1.000000e+15  2019-09-03 12:53:54       2019-09-03 12:54:05   \n",
       "3                NaN                  NaN                       NaN   \n",
       "4                NaN                  NaN                       NaN   \n",
       "\n",
       "   filled_quantity                guid  ...  quantity    status  \\\n",
       "0              1.0  12499XtgLHMdkdKPb0  ...       1.0  COMPLETE   \n",
       "1              1.0     01X6vQVkrdDNqDg  ...       1.0  COMPLETE   \n",
       "2              1.0  12499XEzsb7Humbp2Q  ...       1.0  COMPLETE   \n",
       "3              NaN                 NaN  ...       NaN       NaN   \n",
       "4              NaN                 NaN  ...       NaN       NaN   \n",
       "\n",
       "   status_message status_message_raw tag  tradingsymbol  transaction_type  \\\n",
       "0             NaN                NaN NaN     ADANIPORTS               BUY   \n",
       "1             NaN                NaN NaN     ADANIPORTS              SELL   \n",
       "2             NaN                NaN NaN     ADANIPORTS               BUY   \n",
       "3             NaN                NaN NaN            NaN               NaN   \n",
       "4             NaN                NaN NaN            NaN               NaN   \n",
       "\n",
       "  trigger_price  validity  variety  \n",
       "0           0.0       DAY  regular  \n",
       "1           0.0       DAY  regular  \n",
       "2           0.0       DAY       bo  \n",
       "3           NaN       NaN      NaN  \n",
       "4           NaN       NaN      NaN  \n",
       "\n",
       "[5 rows x 30 columns]"
      ]
     },
     "execution_count": 73,
     "metadata": {},
     "output_type": "execute_result"
    }
   ],
   "source": [
    "kite_orders.where(kite_orders['status'] == 'COMPLETE')"
   ]
  },
  {
   "cell_type": "code",
   "execution_count": 83,
   "metadata": {},
   "outputs": [
    {
     "data": {
      "text/plain": [
       "False"
      ]
     },
     "execution_count": 83,
     "metadata": {},
     "output_type": "execute_result"
    }
   ],
   "source": [
    "kite_orders[kite_orders['status'] == 'NaN'].values.any()"
   ]
  },
  {
   "cell_type": "code",
   "execution_count": 2,
   "metadata": {},
   "outputs": [],
   "source": [
    "strategy_orders = pd.read_csv('live_order_BPCL_2019-10-16.csv')"
   ]
  },
  {
   "cell_type": "code",
   "execution_count": 6,
   "metadata": {},
   "outputs": [
    {
     "data": {
      "text/html": [
       "<div>\n",
       "<style scoped>\n",
       "    .dataframe tbody tr th:only-of-type {\n",
       "        vertical-align: middle;\n",
       "    }\n",
       "\n",
       "    .dataframe tbody tr th {\n",
       "        vertical-align: top;\n",
       "    }\n",
       "\n",
       "    .dataframe thead th {\n",
       "        text-align: right;\n",
       "    }\n",
       "</style>\n",
       "<table border=\"1\" class=\"dataframe\">\n",
       "  <thead>\n",
       "    <tr style=\"text-align: right;\">\n",
       "      <th></th>\n",
       "      <th>Unnamed: 0</th>\n",
       "      <th>Unnamed: 0.1</th>\n",
       "      <th>Unnamed: 0.1.1</th>\n",
       "      <th>Unnamed: 0.1.1.1</th>\n",
       "      <th>day_high</th>\n",
       "      <th>day_low</th>\n",
       "      <th>order_id</th>\n",
       "      <th>price</th>\n",
       "      <th>semi-target_status</th>\n",
       "      <th>status</th>\n",
       "      <th>stoploss</th>\n",
       "      <th>stoploss_status</th>\n",
       "      <th>target</th>\n",
       "      <th>target_status</th>\n",
       "      <th>transaction_type</th>\n",
       "    </tr>\n",
       "  </thead>\n",
       "  <tbody>\n",
       "    <tr>\n",
       "      <th>0</th>\n",
       "      <td>0</td>\n",
       "      <td>0</td>\n",
       "      <td>0.0</td>\n",
       "      <td>0.0</td>\n",
       "      <td>514.1</td>\n",
       "      <td>512.1</td>\n",
       "      <td>1.0</td>\n",
       "      <td>513.5</td>\n",
       "      <td>0</td>\n",
       "      <td>NaN</td>\n",
       "      <td>10000.0</td>\n",
       "      <td>0</td>\n",
       "      <td>516.3</td>\n",
       "      <td>0</td>\n",
       "      <td>BUY</td>\n",
       "    </tr>\n",
       "    <tr>\n",
       "      <th>1</th>\n",
       "      <td>1</td>\n",
       "      <td>1</td>\n",
       "      <td>0.0</td>\n",
       "      <td>NaN</td>\n",
       "      <td>514.1</td>\n",
       "      <td>512.1</td>\n",
       "      <td>2.0</td>\n",
       "      <td>10000.0</td>\n",
       "      <td>0</td>\n",
       "      <td>NaN</td>\n",
       "      <td>514.1</td>\n",
       "      <td>0</td>\n",
       "      <td>503.9</td>\n",
       "      <td>0</td>\n",
       "      <td>SELL</td>\n",
       "    </tr>\n",
       "    <tr>\n",
       "      <th>2</th>\n",
       "      <td>2</td>\n",
       "      <td>0</td>\n",
       "      <td>NaN</td>\n",
       "      <td>NaN</td>\n",
       "      <td>515.4</td>\n",
       "      <td>512.1</td>\n",
       "      <td>NaN</td>\n",
       "      <td>514.1</td>\n",
       "      <td>0</td>\n",
       "      <td>NaN</td>\n",
       "      <td>512.1</td>\n",
       "      <td>0</td>\n",
       "      <td>516.9</td>\n",
       "      <td>0</td>\n",
       "      <td>BUY</td>\n",
       "    </tr>\n",
       "  </tbody>\n",
       "</table>\n",
       "</div>"
      ],
      "text/plain": [
       "   Unnamed: 0  Unnamed: 0.1  Unnamed: 0.1.1  Unnamed: 0.1.1.1  day_high  \\\n",
       "0           0             0             0.0               0.0     514.1   \n",
       "1           1             1             0.0               NaN     514.1   \n",
       "2           2             0             NaN               NaN     515.4   \n",
       "\n",
       "   day_low  order_id    price  semi-target_status  status  stoploss  \\\n",
       "0    512.1       1.0    513.5                   0     NaN   10000.0   \n",
       "1    512.1       2.0  10000.0                   0     NaN     514.1   \n",
       "2    512.1       NaN    514.1                   0     NaN     512.1   \n",
       "\n",
       "   stoploss_status  target  target_status transaction_type  \n",
       "0                0   516.3              0              BUY  \n",
       "1                0   503.9              0             SELL  \n",
       "2                0   516.9              0              BUY  "
      ]
     },
     "execution_count": 6,
     "metadata": {},
     "output_type": "execute_result"
    }
   ],
   "source": [
    "strategy_orders"
   ]
  },
  {
   "cell_type": "code",
   "execution_count": 8,
   "metadata": {},
   "outputs": [
    {
     "data": {
      "text/html": [
       "<div>\n",
       "<style scoped>\n",
       "    .dataframe tbody tr th:only-of-type {\n",
       "        vertical-align: middle;\n",
       "    }\n",
       "\n",
       "    .dataframe tbody tr th {\n",
       "        vertical-align: top;\n",
       "    }\n",
       "\n",
       "    .dataframe thead th {\n",
       "        text-align: right;\n",
       "    }\n",
       "</style>\n",
       "<table border=\"1\" class=\"dataframe\">\n",
       "  <thead>\n",
       "    <tr style=\"text-align: right;\">\n",
       "      <th></th>\n",
       "      <th>order_id</th>\n",
       "      <th>order_type</th>\n",
       "      <th>transaction_type</th>\n",
       "      <th>parent_order_id</th>\n",
       "      <th>price</th>\n",
       "      <th>status</th>\n",
       "      <th>local_order_id</th>\n",
       "    </tr>\n",
       "  </thead>\n",
       "  <tbody>\n",
       "    <tr>\n",
       "      <th>0</th>\n",
       "      <td>190903001710311</td>\n",
       "      <td>LIMIT</td>\n",
       "      <td>BUY</td>\n",
       "      <td>NaN</td>\n",
       "      <td>366.0</td>\n",
       "      <td>COMPLETE</td>\n",
       "      <td>1</td>\n",
       "    </tr>\n",
       "  </tbody>\n",
       "</table>\n",
       "</div>"
      ],
      "text/plain": [
       "          order_id order_type transaction_type  parent_order_id  price  \\\n",
       "0  190903001710311      LIMIT              BUY              NaN  366.0   \n",
       "\n",
       "     status  local_order_id  \n",
       "0  COMPLETE               1  "
      ]
     },
     "execution_count": 8,
     "metadata": {},
     "output_type": "execute_result"
    }
   ],
   "source": [
    "current_order['local_order_id'] = 0\n",
    "current_order.at[0, 'local_order_id'] = 1\n",
    "current_order"
   ]
  },
  {
   "cell_type": "code",
   "execution_count": 14,
   "metadata": {},
   "outputs": [
    {
     "data": {
      "text/plain": [
       "0"
      ]
     },
     "execution_count": 14,
     "metadata": {},
     "output_type": "execute_result"
    }
   ],
   "source": [
    "strategy_orders['semi-target_status'][strategy_orders['order_id'] == current_order.at[0, 'local_order_id']].values[0]"
   ]
  },
  {
   "cell_type": "code",
   "execution_count": 15,
   "metadata": {},
   "outputs": [
    {
     "name": "stdout",
     "output_type": "stream",
     "text": [
      "Nothing\n"
     ]
    }
   ],
   "source": [
    "if strategy_orders['semi-target_status'][strategy_orders['order_id'] == current_order.at[0, 'local_order_id']].values[0] == 1:\n",
    "    print(\"Done\")\n",
    "else:\n",
    "    print(\"Nothing\")"
   ]
  },
  {
   "cell_type": "code",
   "execution_count": 16,
   "metadata": {},
   "outputs": [
    {
     "data": {
      "text/plain": [
       "0"
      ]
     },
     "execution_count": 16,
     "metadata": {},
     "output_type": "execute_result"
    }
   ],
   "source": [
    "strategy_orders['semi-target_status'][strategy_orders['order_id'] == current_order.at[0, 'local_order_id']].values[0]"
   ]
  },
  {
   "cell_type": "code",
   "execution_count": 39,
   "metadata": {},
   "outputs": [
    {
     "data": {
      "text/plain": [
       "190903001722563"
      ]
     },
     "execution_count": 39,
     "metadata": {},
     "output_type": "execute_result"
    }
   ],
   "source": [
    "current_order['order_id'][current_order['order_type'] == 'SL'].values[0]"
   ]
  },
  {
   "cell_type": "code",
   "execution_count": 42,
   "metadata": {},
   "outputs": [
    {
     "data": {
      "text/plain": [
       "False"
      ]
     },
     "execution_count": 42,
     "metadata": {},
     "output_type": "execute_result"
    }
   ],
   "source": [
    "kite_orders['status'][kite_orders['order_id'] == current_order['order_id'][current_order['order_type'] == 'SL'].values[0]].values[0] == 'COMPLETE'"
   ]
  },
  {
   "cell_type": "code",
   "execution_count": 47,
   "metadata": {},
   "outputs": [
    {
     "data": {
      "text/plain": [
       "190903001710311.0"
      ]
     },
     "execution_count": 47,
     "metadata": {},
     "output_type": "execute_result"
    }
   ],
   "source": [
    "current_order['parent_order_id'].values[1]"
   ]
  },
  {
   "cell_type": "code",
   "execution_count": 33,
   "metadata": {},
   "outputs": [
    {
     "data": {
      "text/html": [
       "<div>\n",
       "<style scoped>\n",
       "    .dataframe tbody tr th:only-of-type {\n",
       "        vertical-align: middle;\n",
       "    }\n",
       "\n",
       "    .dataframe tbody tr th {\n",
       "        vertical-align: top;\n",
       "    }\n",
       "\n",
       "    .dataframe thead th {\n",
       "        text-align: right;\n",
       "    }\n",
       "</style>\n",
       "<table border=\"1\" class=\"dataframe\">\n",
       "  <thead>\n",
       "    <tr style=\"text-align: right;\">\n",
       "      <th></th>\n",
       "      <th>order_id</th>\n",
       "      <th>order_type</th>\n",
       "      <th>transaction_type</th>\n",
       "      <th>parent_order_id</th>\n",
       "      <th>price</th>\n",
       "      <th>status</th>\n",
       "    </tr>\n",
       "  </thead>\n",
       "  <tbody>\n",
       "    <tr>\n",
       "      <th>0</th>\n",
       "      <td>190903001710311</td>\n",
       "      <td>LIMIT</td>\n",
       "      <td>BUY</td>\n",
       "      <td>NaN</td>\n",
       "      <td>366.00</td>\n",
       "      <td>COMPLETE</td>\n",
       "    </tr>\n",
       "    <tr>\n",
       "      <th>3</th>\n",
       "      <td>190903001722562</td>\n",
       "      <td>LIMIT</td>\n",
       "      <td>SELL</td>\n",
       "      <td>1.909030e+14</td>\n",
       "      <td>371.00</td>\n",
       "      <td>OPEN</td>\n",
       "    </tr>\n",
       "    <tr>\n",
       "      <th>4</th>\n",
       "      <td>190903001722563</td>\n",
       "      <td>SL</td>\n",
       "      <td>SELL</td>\n",
       "      <td>1.909030e+14</td>\n",
       "      <td>329.15</td>\n",
       "      <td>TRIGGER PENDING</td>\n",
       "    </tr>\n",
       "  </tbody>\n",
       "</table>\n",
       "</div>"
      ],
      "text/plain": [
       "          order_id order_type transaction_type  parent_order_id   price  \\\n",
       "0  190903001710311      LIMIT              BUY              NaN  366.00   \n",
       "3  190903001722562      LIMIT             SELL     1.909030e+14  371.00   \n",
       "4  190903001722563         SL             SELL     1.909030e+14  329.15   \n",
       "\n",
       "            status  \n",
       "0         COMPLETE  \n",
       "3             OPEN  \n",
       "4  TRIGGER PENDING  "
      ]
     },
     "execution_count": 33,
     "metadata": {},
     "output_type": "execute_result"
    }
   ],
   "source": [
    "current_order"
   ]
  },
  {
   "cell_type": "code",
   "execution_count": 34,
   "metadata": {},
   "outputs": [
    {
     "data": {
      "text/html": [
       "<div>\n",
       "<style scoped>\n",
       "    .dataframe tbody tr th:only-of-type {\n",
       "        vertical-align: middle;\n",
       "    }\n",
       "\n",
       "    .dataframe tbody tr th {\n",
       "        vertical-align: top;\n",
       "    }\n",
       "\n",
       "    .dataframe thead th {\n",
       "        text-align: right;\n",
       "    }\n",
       "</style>\n",
       "<table border=\"1\" class=\"dataframe\">\n",
       "  <thead>\n",
       "    <tr style=\"text-align: right;\">\n",
       "      <th></th>\n",
       "      <th>Unnamed: 0</th>\n",
       "      <th>average_price</th>\n",
       "      <th>cancelled_quantity</th>\n",
       "      <th>disclosed_quantity</th>\n",
       "      <th>exchange</th>\n",
       "      <th>exchange_order_id</th>\n",
       "      <th>exchange_timestamp</th>\n",
       "      <th>exchange_update_timestamp</th>\n",
       "      <th>filled_quantity</th>\n",
       "      <th>guid</th>\n",
       "      <th>...</th>\n",
       "      <th>quantity</th>\n",
       "      <th>status</th>\n",
       "      <th>status_message</th>\n",
       "      <th>status_message_raw</th>\n",
       "      <th>tag</th>\n",
       "      <th>tradingsymbol</th>\n",
       "      <th>transaction_type</th>\n",
       "      <th>trigger_price</th>\n",
       "      <th>validity</th>\n",
       "      <th>variety</th>\n",
       "    </tr>\n",
       "  </thead>\n",
       "  <tbody>\n",
       "    <tr>\n",
       "      <th>0</th>\n",
       "      <td>0</td>\n",
       "      <td>364.85</td>\n",
       "      <td>0</td>\n",
       "      <td>0</td>\n",
       "      <td>NSE</td>\n",
       "      <td>1000000003684051</td>\n",
       "      <td>2019-09-03 12:45:53</td>\n",
       "      <td>2019-09-03 12:45:53</td>\n",
       "      <td>1</td>\n",
       "      <td>12499XtgLHMdkdKPb0</td>\n",
       "      <td>...</td>\n",
       "      <td>1</td>\n",
       "      <td>COMPLETE</td>\n",
       "      <td>NaN</td>\n",
       "      <td>NaN</td>\n",
       "      <td>NaN</td>\n",
       "      <td>ADANIPORTS</td>\n",
       "      <td>BUY</td>\n",
       "      <td>0</td>\n",
       "      <td>DAY</td>\n",
       "      <td>regular</td>\n",
       "    </tr>\n",
       "    <tr>\n",
       "      <th>1</th>\n",
       "      <td>1</td>\n",
       "      <td>365.55</td>\n",
       "      <td>0</td>\n",
       "      <td>0</td>\n",
       "      <td>NSE</td>\n",
       "      <td>1000000003828581</td>\n",
       "      <td>2019-09-03 12:50:48</td>\n",
       "      <td>2019-09-03 12:50:48</td>\n",
       "      <td>1</td>\n",
       "      <td>01X6vQVkrdDNqDg</td>\n",
       "      <td>...</td>\n",
       "      <td>1</td>\n",
       "      <td>COMPLETE</td>\n",
       "      <td>NaN</td>\n",
       "      <td>NaN</td>\n",
       "      <td>NaN</td>\n",
       "      <td>ADANIPORTS</td>\n",
       "      <td>SELL</td>\n",
       "      <td>0</td>\n",
       "      <td>DAY</td>\n",
       "      <td>regular</td>\n",
       "    </tr>\n",
       "    <tr>\n",
       "      <th>2</th>\n",
       "      <td>2</td>\n",
       "      <td>366.00</td>\n",
       "      <td>0</td>\n",
       "      <td>0</td>\n",
       "      <td>NSE</td>\n",
       "      <td>1000000003834690</td>\n",
       "      <td>2019-09-03 12:53:54</td>\n",
       "      <td>2019-09-03 12:54:05</td>\n",
       "      <td>1</td>\n",
       "      <td>12499XEzsb7Humbp2Q</td>\n",
       "      <td>...</td>\n",
       "      <td>1</td>\n",
       "      <td>COMPLETE</td>\n",
       "      <td>NaN</td>\n",
       "      <td>NaN</td>\n",
       "      <td>NaN</td>\n",
       "      <td>ADANIPORTS</td>\n",
       "      <td>BUY</td>\n",
       "      <td>0</td>\n",
       "      <td>DAY</td>\n",
       "      <td>bo</td>\n",
       "    </tr>\n",
       "    <tr>\n",
       "      <th>3</th>\n",
       "      <td>3</td>\n",
       "      <td>0.00</td>\n",
       "      <td>0</td>\n",
       "      <td>1</td>\n",
       "      <td>NSE</td>\n",
       "      <td>1000000003862606</td>\n",
       "      <td>2019-09-03 12:54:05</td>\n",
       "      <td>2019-09-03 12:54:05</td>\n",
       "      <td>0</td>\n",
       "      <td>NaN</td>\n",
       "      <td>...</td>\n",
       "      <td>1</td>\n",
       "      <td>OPEN</td>\n",
       "      <td>NaN</td>\n",
       "      <td>NaN</td>\n",
       "      <td>NaN</td>\n",
       "      <td>ADANIPORTS</td>\n",
       "      <td>SELL</td>\n",
       "      <td>0</td>\n",
       "      <td>DAY</td>\n",
       "      <td>bo</td>\n",
       "    </tr>\n",
       "    <tr>\n",
       "      <th>4</th>\n",
       "      <td>4</td>\n",
       "      <td>0.00</td>\n",
       "      <td>0</td>\n",
       "      <td>1</td>\n",
       "      <td>NSE</td>\n",
       "      <td>1000000003862607</td>\n",
       "      <td>2019-09-03 12:54:05</td>\n",
       "      <td>2019-09-03 12:54:05</td>\n",
       "      <td>0</td>\n",
       "      <td>NaN</td>\n",
       "      <td>...</td>\n",
       "      <td>1</td>\n",
       "      <td>TRIGGER PENDING</td>\n",
       "      <td>NaN</td>\n",
       "      <td>NaN</td>\n",
       "      <td>NaN</td>\n",
       "      <td>ADANIPORTS</td>\n",
       "      <td>SELL</td>\n",
       "      <td>363</td>\n",
       "      <td>DAY</td>\n",
       "      <td>bo</td>\n",
       "    </tr>\n",
       "  </tbody>\n",
       "</table>\n",
       "<p>5 rows × 30 columns</p>\n",
       "</div>"
      ],
      "text/plain": [
       "   Unnamed: 0  average_price  cancelled_quantity  disclosed_quantity exchange  \\\n",
       "0           0         364.85                   0                   0      NSE   \n",
       "1           1         365.55                   0                   0      NSE   \n",
       "2           2         366.00                   0                   0      NSE   \n",
       "3           3           0.00                   0                   1      NSE   \n",
       "4           4           0.00                   0                   1      NSE   \n",
       "\n",
       "   exchange_order_id   exchange_timestamp exchange_update_timestamp  \\\n",
       "0   1000000003684051  2019-09-03 12:45:53       2019-09-03 12:45:53   \n",
       "1   1000000003828581  2019-09-03 12:50:48       2019-09-03 12:50:48   \n",
       "2   1000000003834690  2019-09-03 12:53:54       2019-09-03 12:54:05   \n",
       "3   1000000003862606  2019-09-03 12:54:05       2019-09-03 12:54:05   \n",
       "4   1000000003862607  2019-09-03 12:54:05       2019-09-03 12:54:05   \n",
       "\n",
       "   filled_quantity                guid  ...  quantity           status  \\\n",
       "0                1  12499XtgLHMdkdKPb0  ...         1         COMPLETE   \n",
       "1                1     01X6vQVkrdDNqDg  ...         1         COMPLETE   \n",
       "2                1  12499XEzsb7Humbp2Q  ...         1         COMPLETE   \n",
       "3                0                 NaN  ...         1             OPEN   \n",
       "4                0                 NaN  ...         1  TRIGGER PENDING   \n",
       "\n",
       "   status_message status_message_raw tag  tradingsymbol  transaction_type  \\\n",
       "0             NaN                NaN NaN     ADANIPORTS               BUY   \n",
       "1             NaN                NaN NaN     ADANIPORTS              SELL   \n",
       "2             NaN                NaN NaN     ADANIPORTS               BUY   \n",
       "3             NaN                NaN NaN     ADANIPORTS              SELL   \n",
       "4             NaN                NaN NaN     ADANIPORTS              SELL   \n",
       "\n",
       "  trigger_price  validity  variety  \n",
       "0             0       DAY  regular  \n",
       "1             0       DAY  regular  \n",
       "2             0       DAY       bo  \n",
       "3             0       DAY       bo  \n",
       "4           363       DAY       bo  \n",
       "\n",
       "[5 rows x 30 columns]"
      ]
     },
     "execution_count": 34,
     "metadata": {},
     "output_type": "execute_result"
    }
   ],
   "source": [
    "kite_orders"
   ]
  },
  {
   "cell_type": "code",
   "execution_count": 36,
   "metadata": {},
   "outputs": [
    {
     "data": {
      "text/plain": [
       "0    190903001642183\n",
       "1    190903001707491\n",
       "2    190903001710311\n",
       "3    190903001722562\n",
       "4    190903001722563\n",
       "Name: order_id, dtype: int64"
      ]
     },
     "execution_count": 36,
     "metadata": {},
     "output_type": "execute_result"
    }
   ],
   "source": [
    "kite_orders['order_id']"
   ]
  },
  {
   "cell_type": "code",
   "execution_count": 62,
   "metadata": {},
   "outputs": [
    {
     "data": {
      "text/plain": [
       "190903001722562"
      ]
     },
     "execution_count": 62,
     "metadata": {},
     "output_type": "execute_result"
    }
   ],
   "source": [
    "current_order['order_id'][(current_order['order_type'] == 'LIMIT') & (current_order['transaction_type'] != current_order.at[0, 'transaction_type'])].values[0]"
   ]
  },
  {
   "cell_type": "code",
   "execution_count": 57,
   "metadata": {},
   "outputs": [
    {
     "data": {
      "text/plain": [
       "0     True\n",
       "3     True\n",
       "4    False\n",
       "Name: order_type, dtype: bool"
      ]
     },
     "execution_count": 57,
     "metadata": {},
     "output_type": "execute_result"
    }
   ],
   "source": [
    "current_order['order_type'] == 'LIMIT'"
   ]
  },
  {
   "cell_type": "code",
   "execution_count": 58,
   "metadata": {},
   "outputs": [
    {
     "data": {
      "text/plain": [
       "0    False\n",
       "3     True\n",
       "4     True\n",
       "Name: transaction_type, dtype: bool"
      ]
     },
     "execution_count": 58,
     "metadata": {},
     "output_type": "execute_result"
    }
   ],
   "source": [
    "current_order['transaction_type'] != current_order.at[0, 'transaction_type']"
   ]
  },
  {
   "cell_type": "code",
   "execution_count": 64,
   "metadata": {},
   "outputs": [
    {
     "data": {
      "text/plain": [
       "'OPEN'"
      ]
     },
     "execution_count": 64,
     "metadata": {},
     "output_type": "execute_result"
    }
   ],
   "source": [
    "kite_orders['status'][kite_orders['order_id'] == current_order['order_id'][(current_order['order_type'] == 'LIMIT') & (current_order['transaction_type'] != current_order.at[0, 'transaction_type'])].values[0]].values[0]"
   ]
  },
  {
   "cell_type": "code",
   "execution_count": 65,
   "metadata": {},
   "outputs": [
    {
     "data": {
      "text/plain": [
       "4    329.15\n",
       "Name: price, dtype: float64"
      ]
     },
     "execution_count": 65,
     "metadata": {},
     "output_type": "execute_result"
    }
   ],
   "source": [
    "current_order['price'][current_order['order_type'] == 'SL']"
   ]
  },
  {
   "cell_type": "code",
   "execution_count": 67,
   "metadata": {},
   "outputs": [
    {
     "data": {
      "text/plain": [
       "'COMPLETE'"
      ]
     },
     "execution_count": 67,
     "metadata": {},
     "output_type": "execute_result"
    }
   ],
   "source": [
    "kite_orders['status'][kite_orders['order_id'] == current_order.at[0, 'order_id']].values[0]"
   ]
  },
  {
   "cell_type": "code",
   "execution_count": 70,
   "metadata": {},
   "outputs": [
    {
     "data": {
      "text/html": [
       "<div>\n",
       "<style scoped>\n",
       "    .dataframe tbody tr th:only-of-type {\n",
       "        vertical-align: middle;\n",
       "    }\n",
       "\n",
       "    .dataframe tbody tr th {\n",
       "        vertical-align: top;\n",
       "    }\n",
       "\n",
       "    .dataframe thead th {\n",
       "        text-align: right;\n",
       "    }\n",
       "</style>\n",
       "<table border=\"1\" class=\"dataframe\">\n",
       "  <thead>\n",
       "    <tr style=\"text-align: right;\">\n",
       "      <th></th>\n",
       "      <th>order_id</th>\n",
       "      <th>order_type</th>\n",
       "      <th>transaction_type</th>\n",
       "      <th>parent_order_id</th>\n",
       "      <th>price</th>\n",
       "      <th>status</th>\n",
       "    </tr>\n",
       "  </thead>\n",
       "  <tbody>\n",
       "    <tr>\n",
       "      <th>0</th>\n",
       "      <td>190903001710311</td>\n",
       "      <td>LIMIT</td>\n",
       "      <td>BUY</td>\n",
       "      <td>NaN</td>\n",
       "      <td>366.00</td>\n",
       "      <td>COMPLETE</td>\n",
       "    </tr>\n",
       "    <tr>\n",
       "      <th>1</th>\n",
       "      <td>190903001722562</td>\n",
       "      <td>LIMIT</td>\n",
       "      <td>SELL</td>\n",
       "      <td>1.909030e+14</td>\n",
       "      <td>371.00</td>\n",
       "      <td>OPEN</td>\n",
       "    </tr>\n",
       "    <tr>\n",
       "      <th>2</th>\n",
       "      <td>190903001722563</td>\n",
       "      <td>SL</td>\n",
       "      <td>SELL</td>\n",
       "      <td>1.909030e+14</td>\n",
       "      <td>329.15</td>\n",
       "      <td>TRIGGER PENDING</td>\n",
       "    </tr>\n",
       "  </tbody>\n",
       "</table>\n",
       "</div>"
      ],
      "text/plain": [
       "          order_id order_type transaction_type  parent_order_id   price  \\\n",
       "0  190903001710311      LIMIT              BUY              NaN  366.00   \n",
       "1  190903001722562      LIMIT             SELL     1.909030e+14  371.00   \n",
       "2  190903001722563         SL             SELL     1.909030e+14  329.15   \n",
       "\n",
       "            status  \n",
       "0         COMPLETE  \n",
       "1             OPEN  \n",
       "2  TRIGGER PENDING  "
      ]
     },
     "execution_count": 70,
     "metadata": {},
     "output_type": "execute_result"
    }
   ],
   "source": [
    "current_order = current_order.reset_index(drop=True)\n",
    "current_order"
   ]
  },
  {
   "cell_type": "code",
   "execution_count": 72,
   "metadata": {},
   "outputs": [
    {
     "data": {
      "text/plain": [
       "True"
      ]
     },
     "execution_count": 72,
     "metadata": {},
     "output_type": "execute_result"
    }
   ],
   "source": [
    "current_order.at[0, 'status'] == 'COMPLETE' and current_order.at[1, 'status'] == 'OPEN'"
   ]
  },
  {
   "cell_type": "code",
   "execution_count": 5,
   "metadata": {},
   "outputs": [
    {
     "data": {
      "text/html": [
       "<div>\n",
       "<style scoped>\n",
       "    .dataframe tbody tr th:only-of-type {\n",
       "        vertical-align: middle;\n",
       "    }\n",
       "\n",
       "    .dataframe tbody tr th {\n",
       "        vertical-align: top;\n",
       "    }\n",
       "\n",
       "    .dataframe thead th {\n",
       "        text-align: right;\n",
       "    }\n",
       "</style>\n",
       "<table border=\"1\" class=\"dataframe\">\n",
       "  <thead>\n",
       "    <tr style=\"text-align: right;\">\n",
       "      <th></th>\n",
       "      <th>Unnamed: 0</th>\n",
       "      <th>average_price</th>\n",
       "      <th>cancelled_quantity</th>\n",
       "      <th>disclosed_quantity</th>\n",
       "      <th>exchange</th>\n",
       "      <th>exchange_order_id</th>\n",
       "      <th>exchange_timestamp</th>\n",
       "      <th>exchange_update_timestamp</th>\n",
       "      <th>filled_quantity</th>\n",
       "      <th>guid</th>\n",
       "      <th>...</th>\n",
       "      <th>quantity</th>\n",
       "      <th>status</th>\n",
       "      <th>status_message</th>\n",
       "      <th>status_message_raw</th>\n",
       "      <th>tag</th>\n",
       "      <th>tradingsymbol</th>\n",
       "      <th>transaction_type</th>\n",
       "      <th>trigger_price</th>\n",
       "      <th>validity</th>\n",
       "      <th>variety</th>\n",
       "    </tr>\n",
       "  </thead>\n",
       "  <tbody>\n",
       "    <tr>\n",
       "      <th>0</th>\n",
       "      <td>0</td>\n",
       "      <td>364.85</td>\n",
       "      <td>0</td>\n",
       "      <td>0</td>\n",
       "      <td>NSE</td>\n",
       "      <td>1000000003684051</td>\n",
       "      <td>2019-09-03 12:45:53</td>\n",
       "      <td>2019-09-03 12:45:53</td>\n",
       "      <td>1</td>\n",
       "      <td>12499XtgLHMdkdKPb0</td>\n",
       "      <td>...</td>\n",
       "      <td>1</td>\n",
       "      <td>COMPLETE</td>\n",
       "      <td>NaN</td>\n",
       "      <td>NaN</td>\n",
       "      <td>NaN</td>\n",
       "      <td>ADANIPORTS</td>\n",
       "      <td>BUY</td>\n",
       "      <td>0</td>\n",
       "      <td>DAY</td>\n",
       "      <td>regular</td>\n",
       "    </tr>\n",
       "    <tr>\n",
       "      <th>1</th>\n",
       "      <td>1</td>\n",
       "      <td>365.55</td>\n",
       "      <td>0</td>\n",
       "      <td>0</td>\n",
       "      <td>NSE</td>\n",
       "      <td>1000000003828581</td>\n",
       "      <td>2019-09-03 12:50:48</td>\n",
       "      <td>2019-09-03 12:50:48</td>\n",
       "      <td>1</td>\n",
       "      <td>01X6vQVkrdDNqDg</td>\n",
       "      <td>...</td>\n",
       "      <td>1</td>\n",
       "      <td>COMPLETE</td>\n",
       "      <td>NaN</td>\n",
       "      <td>NaN</td>\n",
       "      <td>NaN</td>\n",
       "      <td>ADANIPORTS</td>\n",
       "      <td>SELL</td>\n",
       "      <td>0</td>\n",
       "      <td>DAY</td>\n",
       "      <td>regular</td>\n",
       "    </tr>\n",
       "    <tr>\n",
       "      <th>2</th>\n",
       "      <td>2</td>\n",
       "      <td>366.00</td>\n",
       "      <td>0</td>\n",
       "      <td>0</td>\n",
       "      <td>NSE</td>\n",
       "      <td>1000000003834690</td>\n",
       "      <td>2019-09-03 12:53:54</td>\n",
       "      <td>2019-09-03 12:54:05</td>\n",
       "      <td>1</td>\n",
       "      <td>12499XEzsb7Humbp2Q</td>\n",
       "      <td>...</td>\n",
       "      <td>1</td>\n",
       "      <td>COMPLETE</td>\n",
       "      <td>NaN</td>\n",
       "      <td>NaN</td>\n",
       "      <td>NaN</td>\n",
       "      <td>ADANIPORTS</td>\n",
       "      <td>BUY</td>\n",
       "      <td>0</td>\n",
       "      <td>DAY</td>\n",
       "      <td>bo</td>\n",
       "    </tr>\n",
       "    <tr>\n",
       "      <th>3</th>\n",
       "      <td>3</td>\n",
       "      <td>0.00</td>\n",
       "      <td>0</td>\n",
       "      <td>1</td>\n",
       "      <td>NSE</td>\n",
       "      <td>1000000003862606</td>\n",
       "      <td>2019-09-03 12:54:05</td>\n",
       "      <td>2019-09-03 12:54:05</td>\n",
       "      <td>0</td>\n",
       "      <td>NaN</td>\n",
       "      <td>...</td>\n",
       "      <td>1</td>\n",
       "      <td>OPEN</td>\n",
       "      <td>NaN</td>\n",
       "      <td>NaN</td>\n",
       "      <td>NaN</td>\n",
       "      <td>ADANIPORTS</td>\n",
       "      <td>SELL</td>\n",
       "      <td>0</td>\n",
       "      <td>DAY</td>\n",
       "      <td>bo</td>\n",
       "    </tr>\n",
       "    <tr>\n",
       "      <th>4</th>\n",
       "      <td>4</td>\n",
       "      <td>0.00</td>\n",
       "      <td>0</td>\n",
       "      <td>1</td>\n",
       "      <td>NSE</td>\n",
       "      <td>1000000003862607</td>\n",
       "      <td>2019-09-03 12:54:05</td>\n",
       "      <td>2019-09-03 12:54:05</td>\n",
       "      <td>0</td>\n",
       "      <td>NaN</td>\n",
       "      <td>...</td>\n",
       "      <td>1</td>\n",
       "      <td>TRIGGER PENDING</td>\n",
       "      <td>NaN</td>\n",
       "      <td>NaN</td>\n",
       "      <td>NaN</td>\n",
       "      <td>ADANIPORTS</td>\n",
       "      <td>SELL</td>\n",
       "      <td>363</td>\n",
       "      <td>DAY</td>\n",
       "      <td>bo</td>\n",
       "    </tr>\n",
       "  </tbody>\n",
       "</table>\n",
       "<p>5 rows × 30 columns</p>\n",
       "</div>"
      ],
      "text/plain": [
       "   Unnamed: 0  average_price  cancelled_quantity  disclosed_quantity exchange  \\\n",
       "0           0         364.85                   0                   0      NSE   \n",
       "1           1         365.55                   0                   0      NSE   \n",
       "2           2         366.00                   0                   0      NSE   \n",
       "3           3           0.00                   0                   1      NSE   \n",
       "4           4           0.00                   0                   1      NSE   \n",
       "\n",
       "   exchange_order_id   exchange_timestamp exchange_update_timestamp  \\\n",
       "0   1000000003684051  2019-09-03 12:45:53       2019-09-03 12:45:53   \n",
       "1   1000000003828581  2019-09-03 12:50:48       2019-09-03 12:50:48   \n",
       "2   1000000003834690  2019-09-03 12:53:54       2019-09-03 12:54:05   \n",
       "3   1000000003862606  2019-09-03 12:54:05       2019-09-03 12:54:05   \n",
       "4   1000000003862607  2019-09-03 12:54:05       2019-09-03 12:54:05   \n",
       "\n",
       "   filled_quantity                guid  ...  quantity           status  \\\n",
       "0                1  12499XtgLHMdkdKPb0  ...         1         COMPLETE   \n",
       "1                1     01X6vQVkrdDNqDg  ...         1         COMPLETE   \n",
       "2                1  12499XEzsb7Humbp2Q  ...         1         COMPLETE   \n",
       "3                0                 NaN  ...         1             OPEN   \n",
       "4                0                 NaN  ...         1  TRIGGER PENDING   \n",
       "\n",
       "   status_message status_message_raw tag  tradingsymbol  transaction_type  \\\n",
       "0             NaN                NaN NaN     ADANIPORTS               BUY   \n",
       "1             NaN                NaN NaN     ADANIPORTS              SELL   \n",
       "2             NaN                NaN NaN     ADANIPORTS               BUY   \n",
       "3             NaN                NaN NaN     ADANIPORTS              SELL   \n",
       "4             NaN                NaN NaN     ADANIPORTS              SELL   \n",
       "\n",
       "  trigger_price  validity  variety  \n",
       "0             0       DAY  regular  \n",
       "1             0       DAY  regular  \n",
       "2             0       DAY       bo  \n",
       "3             0       DAY       bo  \n",
       "4           363       DAY       bo  \n",
       "\n",
       "[5 rows x 30 columns]"
      ]
     },
     "execution_count": 5,
     "metadata": {},
     "output_type": "execute_result"
    }
   ],
   "source": [
    "kite_orders"
   ]
  },
  {
   "cell_type": "code",
   "execution_count": 11,
   "metadata": {},
   "outputs": [
    {
     "data": {
      "text/plain": [
       "1000000003684051"
      ]
     },
     "execution_count": 11,
     "metadata": {},
     "output_type": "execute_result"
    }
   ],
   "source": [
    "kite_orders.loc[kite_orders.index[kite_orders['average_price'] == 364.85], 'exchange_order_id'].values[0]"
   ]
  },
  {
   "cell_type": "code",
   "execution_count": null,
   "metadata": {},
   "outputs": [],
   "source": []
  }
 ],
 "metadata": {
  "kernelspec": {
   "display_name": "Python 3",
   "language": "python",
   "name": "python3"
  },
  "language_info": {
   "codemirror_mode": {
    "name": "ipython",
    "version": 3
   },
   "file_extension": ".py",
   "mimetype": "text/x-python",
   "name": "python",
   "nbconvert_exporter": "python",
   "pygments_lexer": "ipython3",
   "version": "3.7.3"
  }
 },
 "nbformat": 4,
 "nbformat_minor": 2
}
